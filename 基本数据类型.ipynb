{
 "cells": [
  {
   "cell_type": "markdown",
   "metadata": {},
   "source": [
    "## 基本数据类型"
   ]
  },
  {
   "cell_type": "markdown",
   "metadata": {},
   "source": [
    "### 1 数据类型\n",
    "#### 数字类型\n",
    "Python语言提供3种数字类型：整数类型、浮点 数类型和复数类型，分别对应数学中的整数、实\n",
    "数和复数。 \n",
    "\n",
    "1010是一个整数类型，10.10是一个浮点数类型， 10 + 10j是一个复数类型。\n",
    "#### 整数类型\n",
    "与数学中的整数概念一致，没有取值范围限制。\n",
    "\n",
    "整数类型有4种进制表示：十进制、二进制、八进 制和十六进制。默认情况，整数采用十进制，其他进制需要增加引导符号\n",
    "\n",
    "示例 • 1010, -1010, 0b1010, 0o1010, 0x1010\n",
    "\n",
    "|进制种类|引导符号|描述|\n",
    "|:-:|:-:|:-:|\n",
    "|十进制|无|默认情况，例：1010,-1010 |\n",
    "|二进制|0b或0B|由字符0和1组成，例：0b1010，0B1010|\n",
    "|八进制|0o或0O| 由字符0到7组成，例：0o1010，0O1010|\n",
    "|十六进制|0x或0X|由字符0到9、a到f或A到F组成，例：0x1010|\n",
    "\n",
    "不同进制的整数之间可以直接运算\n",
    "\n",
    "#### 浮点数类型\n",
    "带有小数点及小数的数字。\n",
    "\n",
    "Python语言中的浮点数类型必须带有小数部 分，小数部分可以是0。例如：1010是整数， 1010.0是浮点数。\n",
    "\n",
    "浮点数有2种表示方法：十进制形式的一般 表示和科学计数法表示。除十进制外，浮点\n",
    "数没有其他进制表示形式。下面是浮点数类型的例子：\n",
    "\n",
    "1010.0, -1010., 1.01e3, -1.01E-3\n",
    "\n",
    "科学计数法使用字母e或者E作为幂的符号，以10为基数，含义如下：\n",
    "\n",
    "(a)e(b) = a*10b\n",
    "    \n",
    "上例中，1.01e3值为1010.0；-1.01E-3值为 0.00101\n",
    "\n",
    "Python浮点数类型的数值范围和小数精度受 不同计算机系统的限制。除高精度科学计算\n",
    "外的绝大部分运算来说，浮点数类型的数值范围和小数精度足够“可靠”。\n",
    "\n",
    "#### 复数类型\n",
    "复数类型表示数学中的复数。复数有一个基本单 位元素j，叫作“虚数单位”。含有虚数单位的数 被称为复数。例如:\n",
    "\n",
    "11.3+4j -5.6+7j 1.23e-4+5.67e+89j\n",
    "\n",
    "Python语言中，复数可以看作是二元有序实数对 （a, b），表示为：a + bj，其中，a是实数部分， 简称实部，b是虚数部分，简称虚部。虚数部分通 过后缀“J”或者“j”来表示。需要注意，当b为1时， 1不能省略，即 1j表示复数，而j则表示Python程序 中的一个变量。\n",
    "\n",
    "复数类型中实部和虚部都是浮点类型，对于复数z，可以用 z.real和z.imag分别获得它的实数部分和虚数部分\n",
    "\n",
    "### 2 数字类型的运算\n",
    "#### 数值运算操作符\n",
    "Python提供了9个基本的数值运算操作符\n",
    "\n",
    "|操作符|描述|\n",
    "|:-:|:-:|\n",
    "|x + y|x与y之和|\n",
    "|x - y|x与y之差|\n",
    "|x * y|x与y之积|\n",
    "|x / y|x与y之商|\n",
    "|x // y| x与y之整数商，即：不大于x与y之商的最大整数|\n",
    "|x % y|x与y之商的余数，也称为模运算 -x x的负值，即：x*(-1) +x x本身|\n",
    "|x**y|x的y次幂，即：xy|\n",
    "\n",
    "上标所有二元运算操作符（+、-、*、/、//、%）都可 以与等号（=）相连，形成增强赋值操作符（+=、-=、*=、 /=、//=、%=）。用op表示这些二元运算操作符，增 强赋值操作符的用法如下：\n",
    "\n",
    "x op= y 等价于 x = x op y\n",
    "\n",
    "数值运算可能改变结果的数据类型，类型的改变与运算符有关，有如下基本规则：\n",
    "- 整数和浮点数混合运算，输出结果是浮点数；\n",
    "- 整数之间运算，产生结果类型与操作符相关，运算的结果是浮点数；\n",
    "- 整数或浮点数与复数运算，输出结果是复数。\n",
    "\n",
    "#### 数值运算函数\n",
    "Python解释器提供了一些内置函数，在这些内置函 数之中，有6个函数与数值运算相关\n",
    "\n",
    "|函数|描述|\n",
    "|:-:|:-:|\n",
    "|abs(x)| x的绝对值 |\n",
    "|divmod(x, y)| (x//y, x%y)，输出为二元组形式（也称为元组类型）\n",
    "|pow(x, y[, z])| (x**y)%z，[..]表示该参数可以省略，即：pow(x,y)，它与x**y相同|\n",
    "|round(x[, ndigits])| 对x四舍五入，保留ndigits位小数。round(x)返回四舍五入的整数值| |max($x_1$, $x_2$, …, $x_n$)| $x_1$, $x_2$, …, $x_n$的最大值，n没有限定|\n",
    "|min($x_1$, $x_2$, …, $x_n$)| $x_1$, $x_2$, …, $x_n$的最小值，n没有限定|\n",
    "\n",
    "### 3 字符串类型及格式化\n",
    "#### 字符串类型\n",
    "字符串是字符的序列表示，根据字符串的内容多少分为单行字符串和多行字符串。\n",
    "\n",
    "单行字符串可以由一对单引号（'）或双引号（\"） 作为边界来表示，单引号和双引号作用相同。\n",
    "\n",
    "多行字符串可以由一对三单引号（'''）或三双引 号（\"\"\"）作为边界来表示，两者作用相同。\n",
    "\n",
    "Python语言转义符： \\ n 例如：\\n表示换行、\\\\表示反斜杠、\\'表示单引 号、\\\"表示双引号、\\t表示制表符（TAB）等。\n",
    "#### 字符串的索引\n",
    "字符串是一个字符序列：字符串最左端位置标记为0，依次 增加。对字符串中某个字符的检索被称为索引。索引的使用方式如下：\n",
    "\n",
    "<字符串或字符串变量>[序号]\n",
    "\n",
    "如果字符串长度为L，正向递增需要以最左侧字符序号为0， 向右依次递增，最右侧字符序号为L-1；反向递减序号以最 右侧字符序号为-1，向左依次递减，最左侧字符序号为-L\n",
    "\n",
    "字符串以Unicode编码存储，字符串的英文字符和 中文字符都算作1个字符。\n",
    "\n",
    "#### 字符串的切片\n",
    "对字符串中某个子串或区间的检索被称为切片。切片的使用方式如下： \n",
    "\n",
    "<字符串或字符串变量>[N: M] \n",
    "#### format()方法的基本使用\n",
    "字符串format()方法的基本使用格式是：\n",
    "\n",
    "<模板字符串>.format(<逗号分隔的参数>)\n",
    "\n",
    "其中，模板字符串是一个由字符串和槽组成的字符 串，用来控制字符串和变量的显示效果。槽用大括 号({})表示，对应format()方法中逗号分隔的参数。\n",
    "\n",
    "如果模板字符串有多个槽，且槽内没有指定序号，则按照槽出现的顺序分别对应.format()方法中的 不同参数。\n",
    "\n",
    "可以通过format()参数的序号在模板字符串槽中 指定参数的使用，参数从0开始编号\n",
    "\n",
    "format()方法中模板字符串的槽除了包括参数序号，还 可以包括格式控制信息。\n",
    "\n",
    "{<参数序号>: <格式控制标记>} \n",
    "\n",
    "其中，格式控制标记用来控制参数显示时的格式 。格式 控制标记包括：<填充><对齐><宽度>,<.精度><类型>6个 字段，这些字段都是可选的，可以组合使用\n",
    "\n",
    "|:|<填充>|<对齐>|<宽度>|, |<.精度>|<类型>|\n",
    "|:-:|:-:|:-:|:-:|:-:|:-:|:-:|\n",
    "|引导符号|用于填充的单个字符|< 左对齐 > 右对齐 ^ 居中对齐|槽的设定输出宽度|数字的千位分隔符适用于整数和浮点数|浮点数小数部分的精度或字符串的最大输出长度|整数类型b,c,d,o,x,X；浮点数类型e,E,f,%|\n",
    "\n",
    "<填充>、<对齐>和<宽度>主要用于对显示格式的规范。\n",
    "\n",
    "宽度指当前槽的设定输出字符宽度，如果该槽参数实际 值比宽度设定值大，则使用参数实际长度。如果该值的 实际位数小于指定宽度，则按照对齐指定方式在宽度内 对齐，默认以空格字符补充。\n",
    "\n",
    "对齐字段分别使用<、>和^三个符号表示左对齐、右对 齐和居中对齐。\n",
    "\n",
    "填充字段可以修改默认填充字符，填充字符只能有一个。\n",
    "\n",
    "<.精度><类型>主要用于对数值本身的规范\n",
    "\n",
    "<.精度>由小数点（.）开头。对于浮点数，精度表示小 数部分输出的有效位数。对于字符串，精度表示输出的 最大长度。小数点可以理解为对数值的有效截断\n",
    "\n",
    "<类型>表示输出整数和浮点数类型的格式规则。\n",
    "\n",
    "对于整数类型，输出格式包括6种： \n",
    "- b: 输出整数的二进制方式；\n",
    "- c: 输出整数对应的Unicode字符；\n",
    "- d: 输出整数的十进制方式； \n",
    "- o: 输出整数的八进制方式； \n",
    "- x: 输出整数的小写十六进制方式；\n",
    "- X: 输出整数的大写十六进制方式； \n",
    "\n",
    "对于浮点数类型，输出格式包括4种： \n",
    "- e: 输出浮点数对应的小写字母e的指数形式；\n",
    "- E: 输出浮点数对应的大写字母E的指数形式；\n",
    "- f: 输出浮点数的标准浮点形式；\n",
    "- %: 输出浮点数的百分形式。\n",
    "\n",
    "### 4 字符串类型的操作\n",
    "#### 字符串操作符\n",
    "针对字符串，Python语言提供了几个基本操作符\n",
    "\n",
    "|操作符|描述|\n",
    "|:-:|:-:|\n",
    "|x + y| 连接两个字符串x与y|\n",
    "|x * n 或 n * x| 复制n次字符串x|\n",
    "|x in s| 如果x是s的子串，返回True，否则返回False| \n",
    "\n",
    "#### 字符串处理函数\n",
    "Python语言提供了一些对字符串处理的内置函数\n",
    "\n",
    "|函数|描述|\n",
    "|:-:|:-:|\n",
    "|len(x)|返回字符串x的长度，也可返回其他组合数据类型的元素个数 |\n",
    "|str(x)| 返回任意类型x所对应的字符串形式|\n",
    "|chr(x)|返回Unicode编码x对应的单字符|\n",
    "|ord(x)|返回单字符x表示的Unicode编码|\n",
    "|hex(x)|返回整数x对应十六进制数的小写形式字符串|\n",
    "|oct(x)|返回整数x对应八进制数的小写形式字符串 |\n",
    "\n",
    "#### 字符串处理方法 \n",
    "方法也是一个函数，只是调用方式不同。函数采用func(x) 方式调用，而方法则采用<a>.func(x)形式调用。方法仅 作用于前导对象<a>。\n",
    "    \n",
    "|方法|描述|\n",
    "|:-:|:-:|\n",
    "|str.lower()| 返回字符串str的副本，全部字符小写 |\n",
    "|str.upper()|返回字符串str的副本，全部字符大写|\n",
    "|str.split(sep=None)| 返回一个列表，由str根据sep被分割的部分构成 |\n",
    "|str.count(sub)| 返回sub子串出现的次数 |\n",
    "|str.replace(old, new)|返回字符串str的副本，所有old子串被替换为new|\n",
    "|str.center(width, fillchar)|字符串居中函数，fillchar参数可选|\n",
    "|str.strip(chars)|从字符串str中去掉在其左侧和右侧chars中列出的字符|\n",
    "|str.join(iter)|将iter变量的每一个元素后增加一个str字符串|"
   ]
  },
  {
   "cell_type": "markdown",
   "metadata": {},
   "source": [
    "str.split(sep) 能够根据sep分隔字符串str，分割后的内容 以列表类型返回。 "
   ]
  },
  {
   "cell_type": "code",
   "execution_count": 1,
   "metadata": {},
   "outputs": [
    {
     "name": "stdout",
     "output_type": "stream",
     "text": [
      "['Python', 'is', 'an', 'excellent', 'language.']\n",
      "['Python is ', 'n excellent l', 'ngu', 'ge.']\n",
      "['Python is ', ' excellent l', 'guage.']\n"
     ]
    }
   ],
   "source": [
    "print(\"Python is an excellent language.\".split())\n",
    "print(\"Python is an excellent language.\".split(\"a\"))\n",
    "print(\"Python is an excellent language.\".split(\"an\"))"
   ]
  },
  {
   "cell_type": "markdown",
   "metadata": {},
   "source": [
    "str.count(sub)方法返回字符串str中出现sub的次数，sub 是一个字符串。 "
   ]
  },
  {
   "cell_type": "code",
   "execution_count": 2,
   "metadata": {},
   "outputs": [
    {
     "data": {
      "text/plain": [
       "3"
      ]
     },
     "execution_count": 2,
     "metadata": {},
     "output_type": "execute_result"
    }
   ],
   "source": [
    "\"Python is an excellent language.\".count('a') "
   ]
  },
  {
   "cell_type": "markdown",
   "metadata": {},
   "source": [
    " str.replace(old, new)方法将字符串str中出现的old字符串 替换为new字符串，old和new的长度可以不同。\n"
   ]
  },
  {
   "cell_type": "code",
   "execution_count": 3,
   "metadata": {},
   "outputs": [
    {
     "name": "stdout",
     "output_type": "stream",
     "text": [
      "Python is #n excellent l#ngu#ge.\n",
      "C is an excellent language.\n"
     ]
    }
   ],
   "source": [
    "print(\"Python is an excellent language.\".replace('a', '#') )\n",
    "print(\"Python is an excellent language.\".replace('Python', 'C') )"
   ]
  },
  {
   "cell_type": "markdown",
   "metadata": {},
   "source": [
    "str.center(width, fillchar)方法返回长度为width的字符串， 其中，str处于新字符串中心位置，两侧新增字符采用 fillchar填充，当width小于字符串长度时，返回str。其 中，fillchar是单个字符"
   ]
  },
  {
   "cell_type": "code",
   "execution_count": 4,
   "metadata": {},
   "outputs": [
    {
     "name": "stdout",
     "output_type": "stream",
     "text": [
      "=======Python=======\n",
      "Python\n"
     ]
    }
   ],
   "source": [
    "print(\"Python\".center(20, \"=\") )\n",
    "print(\"Python\".center(2, \"=\") )"
   ]
  },
  {
   "cell_type": "markdown",
   "metadata": {},
   "source": [
    " str.strip(chars)从字符串str中去掉在其左侧和右侧chars 中列出的字符。chars是一个字符串，其中出现的每个字 符都会被去掉。 "
   ]
  },
  {
   "cell_type": "code",
   "execution_count": 17,
   "metadata": {},
   "outputs": [
    {
     "name": "stdout",
     "output_type": "stream",
     "text": [
      "==Python==\n",
      "Python\n",
      "Pytho\n"
     ]
    }
   ],
   "source": [
    "print(\"   ==Python==   \".strip(\" \") )\n",
    "print(\"   ==Python==   \".strip(\" = \") )\n",
    "print(\"   ==Python==   \".strip(\" =n \") )"
   ]
  },
  {
   "cell_type": "markdown",
   "metadata": {},
   "source": [
    "str.join(iter)中iter是一个具备迭代性质的变量，该方法将 str字符串插入iter变量的元素之间，形成新的字符串。\n"
   ]
  },
  {
   "cell_type": "code",
   "execution_count": 19,
   "metadata": {},
   "outputs": [
    {
     "name": "stdout",
     "output_type": "stream",
     "text": [
      "P Y T H O N\n",
      "1,2,3,4,5\n",
      "1,2,3,4,5\n"
     ]
    }
   ],
   "source": [
    "print(\" \".join('PYTHON'))\n",
    "print(\",\".join('12345'))\n",
    "print(\",\".join(['1', '2', '3', '4', '5']) )    "
   ]
  },
  {
   "cell_type": "markdown",
   "metadata": {},
   "source": [
    "### 5 类型判断和类型间转换\n",
    "#### 数字类型的转换\n",
    "Python语言提供type(x)函数对变量x进行类型判 断，适用于任何数据类型。"
   ]
  },
  {
   "cell_type": "code",
   "execution_count": 21,
   "metadata": {},
   "outputs": [
    {
     "name": "stdout",
     "output_type": "stream",
     "text": [
      "请输入一个数字:2\n",
      "输入的数字是整数。\n"
     ]
    }
   ],
   "source": [
    "n = eval(input('请输入一个数字:'))\n",
    "if type(n) == type(123):\n",
    "    print(\"输入的数字是整数。\") \n",
    "elif type(n) == type(11.3): \n",
    "    print(\"输入的数字是浮点数。\") \n",
    "else: \n",
    "    print(\"无法判断输入类型。\")"
   ]
  },
  {
   "cell_type": "markdown",
   "metadata": {},
   "source": [
    "数值运算操作符可以隐式地转换输出结果的数 字类型，例如，两个整数采用运算符“/”的除法 将可能输出浮点数结果。\n",
    "\n",
    "此外，通过内置的数字类型转换函数可以显式 地在数字类型之间进行转换\n",
    "\n",
    "|函数|描述|\n",
    "|:-:|:-:|\n",
    "|int(x)|将x转换为整数，x可以是浮点数或字符串|\n",
    "|float(x)| 将x转换为浮点数，x可以是整数或字符串|\n",
    "|str(x) |将x转换为字符串，x可以是整数或浮点数|"
   ]
  },
  {
   "cell_type": "markdown",
   "metadata": {},
   "source": [
    "### 实例解析：恺撒密码"
   ]
  },
  {
   "cell_type": "markdown",
   "metadata": {},
   "source": [
    "#### 恺撒密码\n",
    "恺撒密码是古罗马恺撒大帝用来对军事情报进行加密 的算法，它采用了替换方法对信息中的每一个英文字符 循环替换为字母表序列该字符后面第三个字符：\n",
    "      \n",
    "原文：A B C D E F G H I J K L M N O P Q R S T U V W X Y Z     \n",
    "\n",
    "密文：D E F G H I J K L M N O P Q R S T U V W X Y Z A B C \n",
    "\n",
    "原文字符P，其密文字符C满足如下条件：\n",
    "\n",
    "C = ( P + 3 ) mod 26 n \n",
    "\n",
    "解密方法反之，满足： \n",
    "\n",
    "P = ( C – 3 ) mod 26\n",
    "\n",
    "#### 恺撒密码-加密\n",
    " \n",
    "恺撒密码的加密算法程序首先接收用户输入的文本，然后对字母a-z和字母A-Z按照密码算法进行转换"
   ]
  },
  {
   "cell_type": "code",
   "execution_count": 23,
   "metadata": {},
   "outputs": [
    {
     "name": "stdout",
     "output_type": "stream",
     "text": [
      "请输入明文文本: This is an excellent Python book\n",
      "Wklv lv dq hafhoohqw Sbwkrq errn"
     ]
    }
   ],
   "source": [
    "ptxt = input(\"请输入明文文本: \") \n",
    "for p in ptxt:    \n",
    "    if \"a\" <= p <= \"z\":        \n",
    "        print(chr(ord(\"a\")+(ord(p)-ord(\"a\")+3)%26), end='')    \n",
    "    elif \"A\" <= p <= \"Z\":        \n",
    "        print(chr(ord(\"A\")+(ord(p)-ord(\"A\")+3)%26), end='')    \n",
    "    else:        \n",
    "        print(p, end='')"
   ]
  },
  {
   "cell_type": "markdown",
   "metadata": {},
   "source": [
    "#### 恺撒密码-解密\n",
    "恺撒密码的解密算法程序首先接收用户输入的加密文本， 然后对字母a-z和字母A-Z按照密码算法进行反向转换 "
   ]
  },
  {
   "cell_type": "code",
   "execution_count": 25,
   "metadata": {},
   "outputs": [
    {
     "name": "stdout",
     "output_type": "stream",
     "text": [
      "请输入加密后文本:  Wklv lv dq hafhoohqw Sbwkrq errn. \n",
      " This is an excellent Python book. "
     ]
    }
   ],
   "source": [
    "etxt = input(\"请输入加密后文本: \") \n",
    "for p in etxt:    \n",
    "    if \"a\" <= p <= \"z\":       \n",
    "        print(chr(ord(\"a\")+(ord(p)-ord(\"a\")-3)%26), end='') \n",
    "    elif \"A\" <= p <= \"Z\":        \n",
    "        print(chr(ord(\"A\")+(ord(p)-ord(\"A\")-3)%26), end='') \n",
    "    else:        \n",
    "        print(p, end='') "
   ]
  }
 ],
 "metadata": {
  "kernelspec": {
   "display_name": "Python 3",
   "language": "python",
   "name": "python3"
  },
  "language_info": {
   "codemirror_mode": {
    "name": "ipython",
    "version": 3
   },
   "file_extension": ".py",
   "mimetype": "text/x-python",
   "name": "python",
   "nbconvert_exporter": "python",
   "pygments_lexer": "ipython3",
   "version": "3.7.3"
  }
 },
 "nbformat": 4,
 "nbformat_minor": 4
}
