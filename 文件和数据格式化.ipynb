{
 "cells": [
  {
   "cell_type": "markdown",
   "metadata": {},
   "source": [
    "## 文件和数据格式化"
   ]
  },
  {
   "cell_type": "markdown",
   "metadata": {},
   "source": [
    "### 1 文件的使用\n",
    "\n",
    "#### 文件\n",
    "\n",
    "文件是存储在辅助存储器上的一组数据序列，可以包含任何数据内容。概念上，文件是数据的集合和抽象。文件包括两种类型：文本文件和二进制文件。\n",
    "\n",
    "#### 文件的类型\n",
    "\n",
    "文本文件一般由单一特定编码的字符组成，如 UTF-8编码，内容容易统一展示和阅读。\n",
    "\n",
    "二进制文件直接由比特0和比特1组成，文件内部 数据的组织格式与文件用途有关。二进制是信息 按照非字符但特定格式形成的文件，例如，png 格式的图片文件、avi格式的视频文件。\n",
    "\n",
    "二进制文件和文本文件最主要的区别在于是否有统一的字符编码。 \n",
    "\n",
    "无论文件创建为文本文件或者二进制文件，都可以用“文本文件方式”和“二进制文件方式”打开，但打开后的操作不同。"
   ]
  },
  {
   "cell_type": "code",
   "execution_count": 6,
   "metadata": {},
   "outputs": [
    {
     "name": "stdout",
     "output_type": "stream",
     "text": [
      "全国计算机等级考试\n"
     ]
    }
   ],
   "source": [
    "f = open(\"a.txt\", \"rt\", encoding='UTF-8')\n",
    "print(f.readline())\n",
    "f.close()"
   ]
  },
  {
   "cell_type": "markdown",
   "metadata": {},
   "source": [
    "文本文件a.txt，采用二进制方式打开"
   ]
  },
  {
   "cell_type": "code",
   "execution_count": 7,
   "metadata": {},
   "outputs": [
    {
     "name": "stdout",
     "output_type": "stream",
     "text": [
      "b'\\xe5\\x85\\xa8\\xe5\\x9b\\xbd\\xe8\\xae\\xa1\\xe7\\xae\\x97\\xe6\\x9c\\xba\\xe7\\xad\\x89\\xe7\\xba\\xa7\\xe8\\x80\\x83\\xe8\\xaf\\x95'\n"
     ]
    }
   ],
   "source": [
    "f = open(\"a.txt\", \"rb\")\n",
    "print(f.readline())\n",
    "f.close()"
   ]
  },
  {
   "cell_type": "markdown",
   "metadata": {},
   "source": [
    "采用文本方式读入文件，文件经过编码形成字符串，打印出有含义的字符；采用二进制方式打开文件，文件被解析为字节流。\n"
   ]
  },
  {
   "cell_type": "markdown",
   "metadata": {},
   "source": [
    "#### 文件的打开和关闭\n",
    "\n",
    "Python对文本文件和二进制文件采用统一的操 作步骤，即“打开-操作-关闭” \n",
    "\n",
    "Python通过open()函数打开一个文件，并返回一 个操作这个文件的变量，语法形式如下：\n",
    "\n",
    "<变量名> = open(<文件路径及文件名>, <打开模式>) \n",
    "\n",
    "|打开模式 |含义|\n",
    "|:--:|:--:|\n",
    "|'r'| 只读模式，如果文件不存在，返回异常FileNotFoundError，默认值|\n",
    "|'w'| 覆盖写模式，文件不存在则创建，存在则完全覆盖源文件|\n",
    "|'x'| 创建写模式，文件不存在则创建，存在则返回异常FileExistsError|\n",
    "|'a'| 追加写模式，文件不存在则创建，存在则在原文件最后追加内容|\n",
    "|'b'|二进制文件模式 |\n",
    "|'t'|文本文件模式，默认值|\n",
    "|'+'| 与r/w/x/a一同使用，在原功能基础上增加同时读写功能|\n",
    "\n",
    "打开模式使用字符串方式表示，根据字符串定义， 单引号或者双引号均可。上述打开模中，'r'、 'w'、'x'、'b'可以和'b'、't'、'+'组合使用，形成既 表达读写又表达文件模式的方式。 \n",
    "\n",
    "文件使用结束后要用close()方法关闭，释放文件 的使用授权，语法形式如下：\n",
    "\n",
    "<变量名>.close()\n",
    "\n",
    "#### 文件的读写\n",
    "\n",
    "根据打开方式不同，文件读写也会根据文本文件或二进制打开方式有所不同。\n",
    "\n",
    "|方法| 含义| \n",
    "|:--:|:--:|\n",
    "|f.read(size=-1)| 从文件中读入整个文件内容。参数可选，如果给出，读入 前size长度的字符串或字节流 |\n",
    "|f.readline(size = -1) |从文件中读入一行内容。参数可选，如果给出，读入该行 前size长度的字符串或字节流 |\n",
    "|f.readlines(hint=-1)| 从文件中读入所有行，以每行为元素形成一个列表。参数 可选，如果给出，读入hint行 |\n",
    "|f.seek(offset)| 改变当前文件操作指针的位置，offset的值： 0：文件开头； 2: 文件结尾|\n",
    "\n",
    "如果文件不大，可以一次性将文件内容读入，保存到程 序内部变量中。f.read()是最常用的一次性读入文件的函 数，其结果是一个字符串。 "
   ]
  },
  {
   "cell_type": "code",
   "execution_count": 12,
   "metadata": {},
   "outputs": [
    {
     "name": "stdout",
     "output_type": "stream",
     "text": [
      "新年都未有芳华，二月初惊见草芽。\n",
      "白雪却嫌春色晚，故穿庭树作飞花。 \n"
     ]
    }
   ],
   "source": [
    "f = open(\"b.txt\", \"r\", encoding = \"UTF-8\") \n",
    "s = f.read()\n",
    "print(s)\n",
    "f.close()"
   ]
  },
  {
   "cell_type": "markdown",
   "metadata": {},
   "source": [
    "f.readlines()也是一次性读入文件的函数，其结果是一个 列表，每个元素是文件的一行。\n"
   ]
  },
  {
   "cell_type": "code",
   "execution_count": 13,
   "metadata": {},
   "outputs": [
    {
     "name": "stdout",
     "output_type": "stream",
     "text": [
      "['新年都未有芳华，二月初惊见草芽。\\n', '白雪却嫌春色晚，故穿庭树作飞花。 ']\n"
     ]
    }
   ],
   "source": [
    "f = open(\"b.txt\", \"r\", encoding = \"UTF-8\") \n",
    "s = f.readlines()\n",
    "print(s)\n",
    "f.close()"
   ]
  },
  {
   "cell_type": "markdown",
   "metadata": {},
   "source": [
    "文件打开后，对文件的读写有一个读取指针，当从文件中读入内容后，读取指针将向前进，再次读取的内容将从指针的新位置开始。"
   ]
  },
  {
   "cell_type": "code",
   "execution_count": 14,
   "metadata": {},
   "outputs": [
    {
     "name": "stdout",
     "output_type": "stream",
     "text": [
      "新年都未有芳华，二月初惊见草芽。\n",
      "白雪却嫌春色晚，故穿庭树作飞花。 \n",
      "[]\n"
     ]
    }
   ],
   "source": [
    "f = open(\"b.txt\", \"r\", encoding = \"UTF-8\") \n",
    "s = f.read()\n",
    "print(s)\n",
    "ls = f.readlines()\n",
    "print(ls)\n",
    "f.close()"
   ]
  },
  {
   "cell_type": "markdown",
   "metadata": {},
   "source": [
    "结合读取指针理解，上述代码中ls返回值为空， 因为之前f.read()方法已经读取了文件全部内容，读取指针在文件末尾，再次调用f.readlines()方 法已经无法从当前读取指针读入内容，因此返回结果为空。\n"
   ]
  },
  {
   "cell_type": "markdown",
   "metadata": {},
   "source": [
    "f.seek()方法能够移动读取指针的位置，f.seek(0)将读取 指针移动到文件开头，f.seek(2)将读取指针移动到文件 结尾。 "
   ]
  },
  {
   "cell_type": "code",
   "execution_count": 15,
   "metadata": {},
   "outputs": [
    {
     "name": "stdout",
     "output_type": "stream",
     "text": [
      "新年都未有芳华，二月初惊见草芽。\n",
      "白雪却嫌春色晚，故穿庭树作飞花。 \n",
      "['新年都未有芳华，二月初惊见草芽。\\n', '白雪却嫌春色晚，故穿庭树作飞花。 ']\n"
     ]
    }
   ],
   "source": [
    "f = open(\"b.txt\", \"r\", encoding = \"UTF-8\") \n",
    "s = f.read()\n",
    "print(s)\n",
    "f.seek(0)\n",
    "ls = f.readlines()\n",
    "print(ls)\n",
    "f.close()"
   ]
  },
  {
   "cell_type": "markdown",
   "metadata": {},
   "source": [
    "从文本文件中逐行读入内容并进行处理是一个基本的文件操作需求。文本文件可以看成是由行组成的组合类型，因此，可以使用遍历循环逐行遍历文件，使用方法如下：\n",
    "\n",
    "f = open(<文件路径及名称>, \"r\") \n",
    "\n",
    "for line in f: \n",
    "\n",
    "&emsp;&emsp;#处理一行数据 \n",
    "\n",
    "f.close()\n"
   ]
  },
  {
   "cell_type": "code",
   "execution_count": 18,
   "metadata": {},
   "outputs": [
    {
     "name": "stdout",
     "output_type": "stream",
     "text": [
      "新年都未有芳华，二月初惊见草芽。\n",
      "\n",
      "白雪却嫌春色晚，故穿庭树作飞花。 \n"
     ]
    }
   ],
   "source": [
    "f = open(\"b.txt\", \"r\", encoding = \"UTF-8\")\n",
    "for line in f: \n",
    "    print(line) \n",
    "f.close()"
   ]
  },
  {
   "cell_type": "markdown",
   "metadata": {},
   "source": [
    "#### 文件的读写\n",
    "\n",
    "|方法 |含义 |\n",
    "|:--:|:--:|\n",
    "|f.write(s) |向文件写入一个字符串或字节流 |\n",
    "|f.writelines(lines)| 将一个元素为字符串的列表写入文件|\n"
   ]
  },
  {
   "cell_type": "markdown",
   "metadata": {},
   "source": [
    "f.write(s)向文件写入字符串s，每次写入后，将会记录一个写入指 针。该方法可以反复调用，将在写入指针后分批写入内容，直至文件被关闭。"
   ]
  },
  {
   "cell_type": "code",
   "execution_count": 21,
   "metadata": {},
   "outputs": [
    {
     "name": "stdout",
     "output_type": "stream",
     "text": [
      "新年都未有芳华\n",
      "二月初惊见草芽\n",
      "白雪却嫌春色晚\n",
      "故穿庭树作飞花\n",
      "\n"
     ]
    }
   ],
   "source": [
    "f = open(\"c.txt\", \"w\", encoding = \"UTF-8\")\n",
    "f.write('新年都未有芳华\\n') \n",
    "f.write('二月初惊见草芽\\n')\n",
    "f.write('白雪却嫌春色晚\\n')\n",
    "f.write('故穿庭树作飞花\\n') \n",
    "f.close()\n",
    "f = open(\"c.txt\", \"r\", encoding = \"UTF-8\")\n",
    "print(f.read())\n",
    "f.close()"
   ]
  },
  {
   "cell_type": "markdown",
   "metadata": {},
   "source": [
    "使用f.write(s)时，要显式的使用'\\n'对写入文本进行分 行，如果不进行分行，每次写入的字符串会被连接起来。\n",
    "\n",
    " f.writelines(lines)直接将列表类型的各元素连 接起来写入文件f。"
   ]
  },
  {
   "cell_type": "code",
   "execution_count": 25,
   "metadata": {},
   "outputs": [
    {
     "name": "stdout",
     "output_type": "stream",
     "text": [
      "新年都未有芳华\n",
      "二月初惊见草芽\n",
      "白雪却嫌春色晚\n",
      "故穿庭树作飞花\n",
      "\n"
     ]
    }
   ],
   "source": [
    "ls = ['新年都未有芳华\\n', '二月初惊见草芽\\n', '白雪却嫌春色晚\\n', '故穿庭树作飞花\\n'] \n",
    "f = open(\"d.txt\", \"w\", encoding = \"UTF-8\")\n",
    "f.writelines(ls)\n",
    "f.close()\n",
    "f = open(\"d.txt\", \"r\", encoding = \"UTF-8\")\n",
    "print(f.read())\n",
    "f.close()"
   ]
  },
  {
   "cell_type": "markdown",
   "metadata": {},
   "source": [
    "### 2 数据组织的维度\n",
    "\n",
    "#### 数据组织的维度\n",
    "一组数据在被计算机处理前需要进行一定的组织，表明数据之间的基本关系和逻辑，进而形成“数据的维度”。根据数据的关系不同，数据组织可以分为：一维数据、二维数据和高维数据。\n",
    "\n",
    "#### 一维数据\n",
    "一维数据由对等关系的有序或无序数据构成，采用线性方式组织，对应于数学中数组的概念。例如：中国的直辖市列表即可表示为一维数据，一维数据具有线性特点。\n",
    "\n",
    "#### 二维数据\n",
    "二维数据，也称表格数据，由关联关系数据构成，采用二维表格方式组织，对应于数学中的矩阵，常见的表格都属于二维数据。 \n",
    "\n",
    "#### 高维数据\n",
    "高维数据由键值对类型的数据构成，采用对象方式组织，可以多层嵌套。\n",
    "\n",
    "高维数据在Web系统中十分常用，作为当今 Internet组织内容的主要方式，高位数据衍生出 HTML、XML、JSON等具体数据组织的语法结构。\n",
    "\n",
    "### 3 一维数据的处理\n",
    "\n",
    "#### 一维数据的表示\n",
    "一维数据是最简单的数据组织类型，由于是线性 结构，在Python语言中主要采用列表形式表示。 例如：中国的直辖市数据可以采用一个列表变量表示。"
   ]
  },
  {
   "cell_type": "code",
   "execution_count": 28,
   "metadata": {},
   "outputs": [
    {
     "name": "stdout",
     "output_type": "stream",
     "text": [
      "['北京', '上海', '天津', '重庆']\n"
     ]
    }
   ],
   "source": [
    "ls = ['北京', '上海', '天津', '重庆'] \n",
    "print(ls) "
   ]
  },
  {
   "cell_type": "markdown",
   "metadata": {},
   "source": [
    "#### 一维数据的存储\n",
    "\n",
    "一维数据的文件存储有多种方式，总体思路是采 用特殊字符分隔各数据。常用存储方法包括4种。\n",
    "\n",
    "（1）采用空格分隔元素，例如：\n",
    "\n",
    "北京   上海   天津   重庆 \n",
    "\n",
    "（2）采用逗号分隔元素，例如： \n",
    "\n",
    "北京,上海,天津,重庆\n",
    "\n",
    "（3）采用换行分隔包括，例如：\n",
    "\n",
    "北京\n",
    "\n",
    "上海\n",
    "\n",
    "天津\n",
    "\n",
    "重庆 \n",
    "\n",
    "（4）其他特殊符号分隔，以分号分隔为例，例 如：\n",
    "\n",
    "北京;上海;天津;重庆\n",
    "\n",
    "逗号分割的存储格式叫做CSV格式（Comma-Separated Values，即逗号分隔值），它是一种通用的、相对简单 的文件格式，在商业和科学上广泛应用，大部分编辑器 都支持直接读入或保存文件为CSV格式。\n",
    "\n",
    "一维数据保存成CSV格式后，各元素采用逗号分隔，形 成一行。从Python表示到数据存储，需要将列表对象输 出为CSV格式以及将CSV格式读入成列表对象\n",
    "\n",
    "列表对象输出为CSV格式文件方法如下，采用字 符串的join()方法最为方便。"
   ]
  },
  {
   "cell_type": "code",
   "execution_count": 32,
   "metadata": {},
   "outputs": [
    {
     "name": "stdout",
     "output_type": "stream",
     "text": [
      "北京,上海,天津,重庆\n",
      "\n"
     ]
    }
   ],
   "source": [
    "ls = ['北京', '上海', '天津', '重庆']\n",
    "f = open(\"city.csv\", \"w\")\n",
    "f.write(\",\".join(ls) + \"\\n\") \n",
    "f.close()\n",
    "f = open(\"city.csv\", \"r\")\n",
    "print(f.read())\n",
    "f.close()"
   ]
  },
  {
   "cell_type": "markdown",
   "metadata": {},
   "source": [
    "#### 一维数据的处理\n",
    "对一维数据进行处理首先需要从CSV格式文件读 入一维数据，并将其表示为列表对象。     "
   ]
  },
  {
   "cell_type": "code",
   "execution_count": 33,
   "metadata": {},
   "outputs": [
    {
     "name": "stdout",
     "output_type": "stream",
     "text": [
      "['北京', '上海', '天津', '重庆']\n"
     ]
    }
   ],
   "source": [
    "f = open(\"city.csv\", \"r\") \n",
    "ls = f.read().strip('\\n').split(\",\") \n",
    "f.close() \n",
    "print(ls)"
   ]
  },
  {
   "cell_type": "markdown",
   "metadata": {},
   "source": [
    "#### 二维数据的处理\n",
    "\n",
    "二维数据由多条一维数据构成，可以看成是一维数据的组合形式。因此，二维数据可以采用二维\n",
    "列表来表示，即列表的每个元素对应二维数据的一行，这个元素本身也是列表类型，其内部各元素对应这行中的各列值。\n"
   ]
  },
  {
   "cell_type": "code",
   "execution_count": 34,
   "metadata": {},
   "outputs": [],
   "source": [
    "ls = [ \n",
    "    ['指标', '2014年', '2015年', '2016年'],\n",
    "    ['居民消费价格指数', '102', '101.4', '102'],\n",
    "    ['食品', '103.1', '102.3', '104.6'], \n",
    "    ['烟酒及用品', '994', '102.1', '101.5'], \n",
    "    ['衣着', '102.4', '102.7', '101.4'], \n",
    "    ['家庭设备用品', '101.2', '101', '100.5'], \n",
    "    ['医疗保健和个人用品', '101.3', '102', '101.1'], \n",
    "    ['交通和通信', '99.9', '98.3', '98.7'], \n",
    "    ['娱乐教育文化', '101.9', '101.4', '101.6'], \n",
    "    ['居住', '102', '100.7', '101.6'], \n",
    "]"
   ]
  },
  {
   "cell_type": "markdown",
   "metadata": {},
   "source": [
    "#### 二维数据的存储\n",
    "\n",
    "二维数据由一维数据组成，用CSV格式文件存储。 CSV文件的每一行是一维数据，整个CSV文件是 一个二维数据。\n",
    "\n",
    "二维列表对象输出为CSV格式文件方法如下，采 用遍历循环和字符串的join()方法相结合。 "
   ]
  },
  {
   "cell_type": "code",
   "execution_count": 36,
   "metadata": {},
   "outputs": [],
   "source": [
    "f=open(\"cpi.csv\", \"w\") \n",
    "for row in ls: \n",
    "    f.write(\",\".join(row) + \"\\n\") \n",
    "f.close()"
   ]
  },
  {
   "cell_type": "markdown",
   "metadata": {},
   "source": [
    "#### 二维数据的处理\n",
    "\n",
    "对二维数据进行处理首先需要从CSV格式文件读 入二维数据，并将其表示为二维列表对象。借鉴 一维数据读取方法，从CSV文件读入数据的方法 如下。 "
   ]
  },
  {
   "cell_type": "code",
   "execution_count": 37,
   "metadata": {},
   "outputs": [
    {
     "name": "stdout",
     "output_type": "stream",
     "text": [
      "[['指标', '2014年', '2015年', '2016年'], ['居民消费价格指数', '102', '101.4', '102'], ['食品', '103.1', '102.3', '104.6'], ['烟酒及用品', '994', '102.1', '101.5'], ['衣着', '102.4', '102.7', '101.4'], ['家庭设备用品', '101.2', '101', '100.5'], ['医疗保健和个人用品', '101.3', '102', '101.1'], ['交通和通信', '99.9', '98.3', '98.7'], ['娱乐教育文化', '101.9', '101.4', '101.6'], ['居住', '102', '100.7', '101.6']]\n"
     ]
    }
   ],
   "source": [
    "f = open(\"cpi.csv\", \"r\") \n",
    "ls = []\n",
    "for line in f:\n",
    "    ls.append(line.strip('\\n').split(\",\"))\n",
    "f.close() \n",
    "print(ls)"
   ]
  },
  {
   "cell_type": "markdown",
   "metadata": {},
   "source": [
    "二维数据处理等同于二维列表的操作，与一维列表不同，二维列表一般需要借助循环遍历实现对每个数据的处理，基本代码格式如下： \n",
    "\n",
    "for row in ls:     \n",
    "\n",
    "&emsp;for item in row:     \n",
    "\n",
    "&emsp;&emsp;<对第row行第item列元素进行处理>\n",
    "\n",
    "对二维数据进行格式化输出，打印成表格形状 "
   ]
  },
  {
   "cell_type": "code",
   "execution_count": 53,
   "metadata": {},
   "outputs": [
    {
     "name": "stdout",
     "output_type": "stream",
     "text": [
      "指标          \t2014年       \t2015年       \t2016年       \t\n",
      "居民消费价格指数    \t102         \t101.4       \t102         \t\n",
      "食品          \t103.1       \t102.3       \t104.6       \t\n",
      "烟酒及用品       \t994         \t102.1       \t101.5       \t\n",
      "衣着          \t102.4       \t102.7       \t101.4       \t\n",
      "家庭设备用品      \t101.2       \t101         \t100.5       \t\n",
      "医疗保健和个人用品   \t101.3       \t102         \t101.1       \t\n",
      "交通和通信       \t99.9        \t98.3        \t98.7        \t\n",
      "娱乐教育文化      \t101.9       \t101.4       \t101.6       \t\n",
      "居住          \t102         \t100.7       \t101.6       \t\n"
     ]
    }
   ],
   "source": [
    "ls = [ \n",
    "    ['指标', '2014年', '2015年', '2016年'],\n",
    "    ['居民消费价格指数', '102','101.4', '102'],\n",
    "    ['食品', '103.1', '102.3', '104.6'], \n",
    "    ['烟酒及用品', '994', '102.1', '101.5'], \n",
    "    ['衣着', '102.4', '102.7', '101.4'], \n",
    "    ['家庭设备用品', '101.2', '101', '100.5'], \n",
    "    ['医疗保健和个人用品', '101.3', '102', '101.1'], \n",
    "    ['交通和通信', '99.9', '98.3', '98.7'], \n",
    "    ['娱乐教育文化', '101.9', '101.4', '101.6'], \n",
    "    ['居住', '102', '100.7', '101.6'], \n",
    "]\n",
    "for row in ls: \n",
    "    line = \"\"\n",
    "    for item in row: \n",
    "        line += \"{:12}\\t\".format(item)\n",
    "    print(line)"
   ]
  },
  {
   "cell_type": "markdown",
   "metadata": {},
   "source": [
    "### 4 实例解析：国家财政数据趋势演算\n",
    "\n",
    "#### 国家财政数据趋势演算\n",
    "国家统计局每年会公开许多数据，比如国民经济核算指标等。国家统计局公布的大部分数据都以二维表格形式展现，然而，藏在这些数据背后的价值要比表格所展现的更多。\n",
    "\n",
    "以国家财政收支的公开数据为例，这里展示如何 利用Python挖掘数据变化的规律。将从网上获 取的公开信息存为finance.csv文件\n",
    "\n",
    "|指标 |2000年| 2015年| 2016年|\n",
    "|:--:|:--:|:--:|:--:|\n",
    "|全部收入 |13395.2| 152269.2| 159605|\n",
    "|中央收入 |6989.2| 69267.2| 72365.6|\n",
    "|地方收入 |6406.1 |83002| 87239.4 |\n",
    "|全部支出 |15886.5 |175877.8| 187755.2|\n",
    "|中央支出| 5519.9 |25542.2| 27403.9|\n",
    "|地方支出 |10366.7| 150335.6 |160351.4|"
   ]
  },
  {
   "cell_type": "markdown",
   "metadata": {},
   "source": [
    "由个别数据预测规律属于数值分析的内容，可以通过线性回归方程建立简单模型，线性回归方程\n",
    "的公式为：$\\hat{y} = b \\hat{x} + a$\n",
    "\n",
    " X代表年份，Y代表各年份对应的数值。Python 实现的国家财政数据趋势演算，根据上述三个数\n",
    "值计算出更多年份的可能数据。"
   ]
  },
  {
   "cell_type": "code",
   "execution_count": 57,
   "metadata": {},
   "outputs": [],
   "source": [
    "ls = [\n",
    "    [\"指标\", \"2000年\", \"2015年\", \"2016年\"],\n",
    "    [\"全部收入\", \"13395.2\", \"152269.2\", \"159605\"],\n",
    "    [\"中央收入\", \"6989.2\", \"69267.2\", \"72365.6\"],\n",
    "    [\"地方收入\", \"6406.1\", \"83002\", \"87239.4\"],\n",
    "    [\"全部支出\", \"15886.5\", \"175877.8\", \"187755.2\"],\n",
    "    [\"中央支出\", \"5519.9\", \"25542.2\", \"27403.9\"],\n",
    "    [\"地方支出\", \"10366.7\", \"150335.6\", \"160351.4\"]\n",
    "]\n",
    "f=open(\"finance.csv\", \"w\") \n",
    "for row in ls: \n",
    "    f.write(\",\".join(row) + \"\\n\") \n",
    "f.close()"
   ]
  },
  {
   "cell_type": "code",
   "execution_count": 99,
   "metadata": {},
   "outputs": [],
   "source": [
    "def parseCSV(filename):\n",
    "    dataNames, data =[], []\n",
    "    f = open(filename, 'r', encoding='gbk')\n",
    "    for line in f:\n",
    "        splitedLine = line.strip().split(',')\n",
    "        if '指标' in splitedLine[0]:\n",
    "            years=[int(x[:-1])for x in splitedLine[1:]]\n",
    "        else:\n",
    "            dataNames.append('{:10}'.format(splitedLine[0]))\n",
    "            data.append([float(x)for x in splitedLine[1:]])\n",
    "    f.close()\n",
    "    return years, dataNames, data"
   ]
  },
  {
   "cell_type": "code",
   "execution_count": 100,
   "metadata": {},
   "outputs": [],
   "source": [
    "def means(data): \n",
    "    return sum(data) / len(data) "
   ]
  },
  {
   "cell_type": "code",
   "execution_count": 101,
   "metadata": {},
   "outputs": [],
   "source": [
    "def linearRegression(xlist, ylist):\n",
    "    xmeans, ymeans = means(xlist), means(ylist)\n",
    "    bNumerator = -len(xlist)*xmeans*ymeans\n",
    "    bDenominator = -len(xlist)*xmeans**2\n",
    "    for x, y in zip(xlist,ylist):\n",
    "        bNumerator += x * y\n",
    "        bDenominator += x ** 2\n",
    "        b = bNumerator / bDenominator\n",
    "        a = ymeans - b * xmeans\n",
    "    return a,b"
   ]
  },
  {
   "cell_type": "code",
   "execution_count": 102,
   "metadata": {},
   "outputs": [],
   "source": [
    "def calNewData(newyears, a, b): \n",
    "    return [(a + b * x) for x in newyears] "
   ]
  },
  {
   "cell_type": "code",
   "execution_count": 109,
   "metadata": {},
   "outputs": [],
   "source": [
    "def showResults(years, dataNames, newDatas):\n",
    "    print('{:^60}'.format('国家财政收支线性估计'))\n",
    "    header = '指标'\n",
    "    for year in years:\n",
    "        header += '{:10}'.format(year)\n",
    "    print(header)\n",
    "    for name, lineData in zip(dataNames, newDatas):\n",
    "        line = name\n",
    "        for data in lineData:\n",
    "            line += '{:^10.1f}'.format(data)\n",
    "        print(line) "
   ]
  },
  {
   "cell_type": "code",
   "execution_count": 110,
   "metadata": {},
   "outputs": [],
   "source": [
    "def main():\n",
    "    newyears = [x+2010 for x in range(7)]\n",
    "    newDatas = []\n",
    "    years, dataNames, datas = parseCSV('finance.csv')\n",
    "    for data in datas:\n",
    "        a, b = linearRegression(years, data)\n",
    "        newDatas.append(calNewData(newyears, a, b))\n",
    "    showResults(newyears, dataNames, newDatas) "
   ]
  },
  {
   "cell_type": "code",
   "execution_count": 111,
   "metadata": {},
   "outputs": [
    {
     "name": "stdout",
     "output_type": "stream",
     "text": [
      "                         国家财政收支线性估计                         \n",
      "指标      2010      2011      2012      2013      2014      2015      2016\n",
      "全部收入       105359.6  114550.1  123740.6  132931.0  142121.5  151312.0  160502.4 \n",
      "中央收入       48169.1   52283.8   56398.5   60513.2   64627.9   68742.7   72857.4  \n",
      "地方收入       57190.6   62266.3   67342.1   72417.8   77493.6   82569.3   87645.1  \n",
      "全部支出       122936.9  133645.7  144354.5  155063.3  165772.1  176480.9  187189.8 \n",
      "中央支出       19037.5   20390.9   21744.3   23097.7   24451.1   25804.5   27157.9  \n",
      "地方支出       103899.4  113254.8  122610.2  131965.6  141321.0  150676.4  160031.9 \n"
     ]
    }
   ],
   "source": [
    "main()"
   ]
  },
  {
   "cell_type": "code",
   "execution_count": null,
   "metadata": {},
   "outputs": [],
   "source": []
  }
 ],
 "metadata": {
  "kernelspec": {
   "display_name": "Python 3",
   "language": "python",
   "name": "python3"
  },
  "language_info": {
   "codemirror_mode": {
    "name": "ipython",
    "version": 3
   },
   "file_extension": ".py",
   "mimetype": "text/x-python",
   "name": "python",
   "nbconvert_exporter": "python",
   "pygments_lexer": "ipython3",
   "version": "3.7.3"
  }
 },
 "nbformat": 4,
 "nbformat_minor": 4
}
