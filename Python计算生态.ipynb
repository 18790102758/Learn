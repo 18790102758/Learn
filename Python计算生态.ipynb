{
 "cells": [
  {
   "cell_type": "markdown",
   "metadata": {},
   "source": [
    "## Python计算生态"
   ]
  },
  {
   "cell_type": "markdown",
   "metadata": {},
   "source": [
    "### 1 计算思维\n",
    "\n",
    "#### 计算思维\n",
    "\n",
    "人类在认识世界、改造世界过程中表现出三种基本的思维特征：以实验和验证为特征的实证思维，以物理学科为代表；以推理和演绎为特征的逻辑思维，以数学学科为代表；以设计和构造为特征的计算思维，以计算机学科为代表。\n",
    "\n",
    "计算思维的本质是抽象（Abstraction）和自动 化（Automation）\n",
    "\n",
    "### 2 程序设计方法论\n",
    "\n",
    "#### 程序设计方法论\n",
    "\n",
    "一个解决复杂问题行之有效的方法被称作自顶而下的设计方法，其基本思想是以一个总问题开始，试图把它表达为很多小问题组成的解决方案。再用同样的技术依次攻破每个小问题，最终问题变得非常小，以至于可以很容易解决。然后只需把所有的碎片组合起来，就可以得到一个程序。\n",
    "\n",
    "#### “体育竞技分析”实例 \n",
    "\n",
    "两个球员在一个有四面边界的场地上用球拍击球。开始 比赛时，其中一个球员首先发球。接下来球员交替击球， 直到可以判定得分为止，这个过程称为回合。当一名球 员未能进行一次合法击打时，回合结束。 \n",
    "\n",
    "未能打中球的球员输掉这个回合。如果输掉这个回合的 是发球方，那么发球权交给另一方；如果输掉的是接球 方，则仍然由这个回合的发球方继续发球。\n",
    "\n",
    "总之，每回合结束，由赢得该回合的一方发球。球员只 能在他们自己的发球局中得分。首先达到15分的球员赢 得一局比赛。\n",
    "\n",
    "### 3 自顶向下设计\n",
    "\n",
    "自顶向下设计中最重要的是顶层设计。体育竞技分析从用户处得到模拟参数，最后输出结果。下面是一个基础设计：\n",
    "- 步骤1: 打印程序的介绍性信息；\n",
    "- 步骤2：获得程序运行需要的参数：probA, probB, n；\n",
    "- 步骤3：利用球员A和B的能力值probA和probB，模拟n 次比赛；\n",
    "- 步骤4：输出球员A和B获胜比赛的场次及概率。\n"
   ]
  },
  {
   "cell_type": "code",
   "execution_count": 39,
   "metadata": {},
   "outputs": [],
   "source": [
    "import random"
   ]
  },
  {
   "cell_type": "markdown",
   "metadata": {},
   "source": [
    "步骤1：输入一些介绍信息，针对提升用户体验十分有益。下面是这个步骤的Python代码，顶层设计一般不写出具体代码，仅给出函数定义，其中，printIntro()函数打印一些有必要的说明"
   ]
  },
  {
   "cell_type": "code",
   "execution_count": 40,
   "metadata": {},
   "outputs": [],
   "source": [
    "def main():\n",
    "    printintro()"
   ]
  },
  {
   "cell_type": "markdown",
   "metadata": {},
   "source": [
    "步骤2：获得用户输入。通过函数将输入语句及 输入格式等细节封装或隐藏，只需要假设程序如 果调用了getInputs()函数即可获取变量probA， probB和n的值。这个函数必须为主程序返回这 些值，截止第2步，全部代码如下。\n"
   ]
  },
  {
   "cell_type": "code",
   "execution_count": 41,
   "metadata": {},
   "outputs": [],
   "source": [
    "def main():\n",
    "    printIntro()\n",
    "    probA, probB, n = getInputs()"
   ]
  },
  {
   "cell_type": "markdown",
   "metadata": {},
   "source": [
    "步骤3：需要使用probA、probB模拟n场比赛。 此时，可以采用解决步骤2的类似方法，设计一 个simNGames()函数来模拟n场比赛\n"
   ]
  },
  {
   "cell_type": "code",
   "execution_count": 42,
   "metadata": {},
   "outputs": [],
   "source": [
    "def main():\n",
    "    printIntro() \n",
    "    probA, probB, n = getInputs() \n",
    "    winsA, winsB = simNGames(n, probA, probB)"
   ]
  },
  {
   "cell_type": "markdown",
   "metadata": {},
   "source": [
    "步骤4：输出结果，设计思想类似，仍然只规划 功能和函数，代码如下。\n"
   ]
  },
  {
   "cell_type": "code",
   "execution_count": 43,
   "metadata": {},
   "outputs": [],
   "source": [
    "def main():\n",
    "    printIntro() \n",
    "    probA, probB, n = getInputs()\n",
    "    winsA, winsB = simNGames(n, probA, probB) \n",
    "    printSummary(winsA, winsB)"
   ]
  },
  {
   "cell_type": "markdown",
   "metadata": {},
   "source": [
    "原问题被划分为了4个独立的函数：printIntro()， getInputs()，simNGames()和printSummary()。\n"
   ]
  },
  {
   "cell_type": "markdown",
   "metadata": {},
   "source": [
    "每层设计中，参数和返回值如何设计是重点，其他细节可以暂时忽略。确定事件的重要特征而忽略其它细节过程称为抽象。抽象是一种基本设计方法，自顶向下的设计过程可以看作是发现功能并抽象功能的过程。\n"
   ]
  },
  {
   "cell_type": "markdown",
   "metadata": {},
   "source": [
    "printIntro()函数应该输出一个程序介绍，这个功 能的Python代码如下，这个函数由Python基本 表达式组合，不增加或改变程序结构。"
   ]
  },
  {
   "cell_type": "code",
   "execution_count": 44,
   "metadata": {},
   "outputs": [],
   "source": [
    "def printIntro(): \n",
    "    print(\"这个程序模拟两个选手A和B的某种竞技比赛\") \n",
    "    print(\"程序运行需要A和B的能力值（以0到1之间的小数表示）\")"
   ]
  },
  {
   "cell_type": "markdown",
   "metadata": {},
   "source": [
    " getInputs()函数根据提示得到三个需要返回主程 序的值，代码如下。\n"
   ]
  },
  {
   "cell_type": "code",
   "execution_count": 45,
   "metadata": {},
   "outputs": [],
   "source": [
    "def getInputs():\n",
    "    a = eval(input(\"请输入选手A的能力值(0-1): \"))\n",
    "    b = eval(input(\"请输入选手B的能力值(0-1): \"))\n",
    "    n = eval(input(\"模拟比赛的场次: \")) \n",
    "    return a, b, n"
   ]
  },
  {
   "cell_type": "markdown",
   "metadata": {},
   "source": [
    "simNGames()函数是整个程序的核心，其基本 思路是模拟n场比赛，并跟踪记录每个球员赢得 了多少比赛。"
   ]
  },
  {
   "cell_type": "code",
   "execution_count": 46,
   "metadata": {},
   "outputs": [],
   "source": [
    "def simNGames(n, probA, probB):\n",
    "    winsA, winsB = 0, 0\n",
    "    for i in range(n):\n",
    "        scoreA, scoreB = simOneGame(probA, probB)\n",
    "        if scoreA > scoreB:\n",
    "            winsA += 1 \n",
    "        else: \n",
    "            winsB += 1 \n",
    "    return winsA, winsB "
   ]
  },
  {
   "cell_type": "markdown",
   "metadata": {},
   "source": [
    "代码中设计了simOneGame()函数，用于模拟一场比赛， 这个函数需要知道每个球员的概率，返回两个球员的最终得分。\n",
    "\n",
    "接下来需要实现simOneGame()函数。\n",
    "\n",
    "为了模拟一场比赛，需要根据比赛规则来编写代 码，两个球员A和B持续对攻直至比赛结束。可 以采用无限循环结构直到比赛结束条件成立。同时，需要跟踪记录比赛得分，保留发球局标记，\n",
    "\n",
    "在模拟比赛的循环中，需要考虑单一的发球权和比分问题，通过随机数和概率，可以确定发球方 是否赢得了比分（random() < prob）。如果球 员A发球，那么需要使用A的概率，接着根据发 球结果，更新球员A得分或是将球权交给球员B。\n"
   ]
  },
  {
   "cell_type": "code",
   "execution_count": 47,
   "metadata": {},
   "outputs": [],
   "source": [
    "def simOneGame(probA, probB):\n",
    "    scoreA, scoreB = 0, 0 \n",
    "    serving = \"A\" \n",
    "    while not gameOver(scoreA, scoreB):\n",
    "        if serving == \"A\":\n",
    "            if random.random() < probA:\n",
    "                scoreA += 1\n",
    "            else: \n",
    "                serving=\"B\"\n",
    "        else:\n",
    "            if random.random() < probB: \n",
    "                scoreB += 1\n",
    "            else:\n",
    "                serving=\"A\"\n",
    "    return scoreA, scoreB"
   ]
  },
  {
   "cell_type": "markdown",
   "metadata": {},
   "source": [
    "根据比赛规则，当任意一个球员分数达到15分时 比赛结束。gameOver()函数实现代码如下"
   ]
  },
  {
   "cell_type": "code",
   "execution_count": 48,
   "metadata": {},
   "outputs": [],
   "source": [
    "def gameOver(a,b): \n",
    "     return a==15 or b==15"
   ]
  },
  {
   "cell_type": "markdown",
   "metadata": {},
   "source": [
    "最后是printSummary()函数，其Python代码如下。"
   ]
  },
  {
   "cell_type": "code",
   "execution_count": 49,
   "metadata": {},
   "outputs": [],
   "source": [
    "def printSummary(winsA, winsB): \n",
    "    n = winsA + winsB \n",
    "    print(\"竞技分析开始，共模拟{}场比赛\".format(n)) \n",
    "    print(\"选手A获胜{}场比赛，占比{:0.1%}\".format(winsA, winsA / n))\n",
    "    print(\"选手B获胜{}场比赛，占比{:0.1%}\".format(winsB, winsB / n))"
   ]
  },
  {
   "cell_type": "markdown",
   "metadata": {},
   "source": [
    "将上述所有代码放在一起，形成了实例全部代码。\n",
    "行结果如下："
   ]
  },
  {
   "cell_type": "code",
   "execution_count": 50,
   "metadata": {},
   "outputs": [
    {
     "name": "stdout",
     "output_type": "stream",
     "text": [
      "这个程序模拟两个选手A和B的某种竞技比赛\n",
      "程序运行需要A和B的能力值（以0到1之间的小数表示）\n",
      "请输入选手A的能力值(0-1): 0.45\n",
      "请输入选手B的能力值(0-1): 0.5\n",
      "模拟比赛的场次: 1000\n",
      "竞技分析开始，共模拟1000场比赛\n",
      "选手A获胜367场比赛，占比36.7%\n",
      "选手B获胜633场比赛，占比63.3%\n"
     ]
    }
   ],
   "source": [
    "main()"
   ]
  },
  {
   "cell_type": "markdown",
   "metadata": {},
   "source": [
    "结合体育竞技实例介绍了自顶向下的设计过程。从问题输入输出确定开始，整体设计逐渐向下进行。每一层以大体算法描述开始，然后逐步细化成代码，细节被函数封装\n",
    "\n",
    "#### 自顶向下设计\n",
    "\n",
    "整个过程可以概括为四个步骤：\n",
    "- 步骤1：将算法表达为一系列小问题；\n",
    "- 步骤2：为每个小问题设计接口；\n",
    "- 步骤3：通过将算法表达为接口关联的多个小问 题来细化算法；\n",
    "- 骤4：为每个小问题重复上述过程。"
   ]
  },
  {
   "cell_type": "markdown",
   "metadata": {},
   "source": [
    "### 4 自底向上执行\n",
    "\n",
    "开展测试的更好办法也是将程序分成小部分逐个测试\n",
    "\n",
    "执行中等规模程序的最好方法是从结构图最底层开始，而不是从顶部开始，然后逐步上升或者说，先运行和测试每一个基本函数，再测试由基础函数组成的整体函数，这样有助于定位错误。\n",
    "\n",
    "可以从gameOver()函数开始测试。Python 解释 器提供import 保留字辅助开展单元测试，语法 格式如下： \n",
    "\n",
    "import <源文件名称>"
   ]
  },
  {
   "cell_type": "code",
   "execution_count": 52,
   "metadata": {},
   "outputs": [
    {
     "name": "stdout",
     "output_type": "stream",
     "text": [
      "这个程序模拟两个选手A和B的某种竞技比赛\n",
      "程序运行需要A和B的能力值（以0到1之间的小数表示）\n",
      "请输入选手A的能力值(0-1): 0.45\n",
      "请输入选手B的能力值(0-1): 0.5\n",
      "模拟比赛的场次: 1000\n",
      "竞技分析开始，共模拟1000场比赛\n",
      "选手A获胜353场比赛，占比35.3%\n",
      "选手B获胜647场比赛，占比64.7%\n"
     ]
    },
    {
     "data": {
      "text/plain": [
       "True"
      ]
     },
     "execution_count": 52,
     "metadata": {},
     "output_type": "execute_result"
    }
   ],
   "source": [
    "import MatchAnalysis\n",
    "\n",
    "MatchAnalysis.gameOver(15, 10) "
   ]
  },
  {
   "cell_type": "markdown",
   "metadata": {},
   "source": [
    "初步测试说明gameOver()函数是正确的。进一 步测试simOneGame()函数，如下：\n"
   ]
  },
  {
   "cell_type": "code",
   "execution_count": 54,
   "metadata": {},
   "outputs": [
    {
     "data": {
      "text/plain": [
       "(7, 15)"
      ]
     },
     "execution_count": 54,
     "metadata": {},
     "output_type": "execute_result"
    }
   ],
   "source": [
    "MatchAnalysis.simOneGame(.45, .5) "
   ]
  },
  {
   "cell_type": "markdown",
   "metadata": {},
   "source": [
    "通过继续进行这样的单元测试可以检测程序中的每个函数。独立检验每个函数更容易发现错误。\n",
    "通过模块化设计可以分解问题使编写复杂程序成为可能，通过单元测试方法分解问题使运行和调\n",
    "试复杂程序成为可能。\n",
    "\n",
    "自顶向下和自底向上贯穿程序设计和执行的整个过程。\n"
   ]
  },
  {
   "cell_type": "markdown",
   "metadata": {},
   "source": [
    "### 5 计算生态\n",
    "\n",
    "#### 计算生态\n",
    "\n",
    "近20年的开源运动产生了深植于各信息技术领域 的大量可重用资源，直接且有力的支撑了信息技术超越其他技术领域的发展速度，形成了“计算生态”。\n",
    "\n",
    "Python语言从诞生之初致力于开源开放，建立 了全球最大的编程计算生态。\n",
    "\n",
    "Python官方网站提供了第三方库索引功能 （PyPI，the Python Package Index），网址如 下：\n",
    "\n",
    "https://pypi.python.org/pypi \n",
    "\n",
    "该页面列出了Python语言超过12万个第三方库 的基本信息，这些函数库覆盖信息领域技术所有技术方向。\n",
    "\n",
    "由于Python有非常简单灵活的编程方式，很多 采用C、C++等语言编写的专业库可以经过简单 的接口封装供Python语言程序调用。这样的粘 性功能使得Python语言成为了各类编程语言之 间的接口，Python语言也被称为“胶水语言”。\n",
    "\n",
    "#### Python标准库\n",
    "\n",
    "有一部分Python计算生态随Python安装包一起 发布，用户可以随时使用，被称为Python标准 库。 \n",
    "\n",
    "受限于Python安装包的设定大小，标准库数量 270个左右。\n",
    "\n",
    "#### Python第三方库\n",
    "\n",
    "更广泛的Python计算生态采用额外安装方式服 务用户，被称为Python第三方库。这些第三方 库由全球各行业专家、工程师和爱好者开发，没有顶层设计，由开发者采用“尽力而为”的方式 维护。Python通过新一代安装工具pip管理大部 分Python第三方库的安装。\n",
    "\n",
    "### 6 基本的Python内置函数\n",
    "\n",
    "#### 基本的Python内置函数\n",
    "\n",
    "Python解释器提供了68个内置函数（下面介绍32个） \n",
    "\n",
    "|函数名称| 函数说明| \n",
    "|:--:|:--:|\n",
    "|abs(x)| x的绝对值 如果x是复数，返回复数的模 |\n",
    "|all(x)| 组合类型变量x中所有元素都为真时返回True，否则返回False；若 x为空，返回True|\n",
    "|any(x)| 组合类型变量x中任一元素都为真时返回True，否则返回False；若 x为空，返回False|\n",
    "|bin(x)| 将整数x转换为等值的二进制字符串 bin(1010)的结果是'0b1111110010'|\n",
    "|bool(x) |将x转换为Boolean类型，即True或False bool('') 的结果是False|\n",
    "|chr(i) |返回Unicode为i的字符 chr(9996)的结果是'✌ '|\n",
    "|complex(r,i)| 创建一个复数 ，其中i可以省略 complex(10,10)的结果是10+10j| \n",
    "|dict() |创建字典类型 dict()的结果是一个空字典{} |\n",
    "|divmod(a,b)| 返回a和b的商及余数 divmod(10,3)结果是一个(3,1)|\n",
    "|eval(s)| 计算字符串s作为Python表达式的值 eval('1+99')的结果是100|\n",
    "|exec(s)| 计算字符串s作为Python语句的值 exec('a = 1+999')运行后，变量a的值为1000 |\n",
    "|float(x) |将x转换成浮点数 float(1010)的结果是1010.0 |\n",
    "|hex(x) |将整数转换为16进制字符串hex(1010)的结果是'0x3f2' |\n",
    "|input(s)| 获取用户输入，其中s是字符串，作为提示信息 s可选|\n",
    "|int(x)| 将x转换成整数 int(9.9)的结果是9  |\n",
    "|list(x) |创建或将变量x转换成一个列表类型 list({10,9,8})的结果是[8,9,10] |max(a1,a2,…)| 返回参数的最大值 max(1,2,3,4,5)的结果是5 |\n",
    "|min(a1,a2,…) |返回参数的最小值 min(1,2,3,4,5)的结果是1 |\n",
    "|oct(x)| 将整数x转换成等值的八进制字符串形式 oct(1010)的结果是'0o1762' |\n",
    "|open(fname, m)| 打开文件，包括文本方式和二进制方式等 其中，m部分可以省略，默认是以文本可读形式打开|\n",
    "|ord(c)| 返回一个字符的Unicode编码值 ord('字')的结果是23383 |\n",
    "|pow(x,y)| 返回x的y次幂 pow(2,pow(2,2))的结果是16 |\n",
    "|print(x) |打印变量或字符串x print()的end参数用来表示输出的结尾字符 |\n",
    "|range(a,b,s)| 从a到b(不含)以s为步长产生一个序列 list(range(1,10,3))的结果是[1, 4, 7] |\n",
    "|reversed(r)| 返回组合类型r的逆序迭代形式 for i in reversed([1,2,3])将逆序遍历列表 |\n",
    "|round(n)| 四舍五入方式计算n round(10.6)的结果是11|\n",
    "|set(x) |将组合数据类型x转换成集合类型 set([1,1,1,1])的结果是{1} |\n",
    "|sorted(x) |对组合数据类型x进行排序，默认从小到大 sorted([1,3,5,2,4])的结果是[1,2,3,4,5] |\n",
    "|str(x) |将x转换为等值的字符串类型 str(0x1010)的结果是'4112' |\n",
    "|sum(x) |对组合数据类型x计算求和结果 sum([1,3,5,2,4])的结果是15|\n",
    "|type(x)| 返回变量x的数据类型 type({1:2})的结果是<class 'dict'>|"
   ]
  },
  {
   "cell_type": "markdown",
   "metadata": {},
   "source": [
    "### 7 实例解析：Web页面元素提取\n",
    "\n",
    "#### Web页面元素提取\n",
    "\n",
    " Web页面，一般是HTML页面，是Internet组织 信息的基础元素。Web页面元素提取是一类常见 问题，在网络爬虫、浏览器等程序中有着不可或缺的重要作用。\n",
    "\n",
    "HTML指超文本标记语言，严格来说，HTML不 是一种编程语言，而是一种对信息的标记语言， 对Web的内容、格式进行描述。\n",
    "\n",
    "自动地从一个链接获取HTML页面是网络爬虫的 功能，本实例功能可以整体分成如下4个步骤：\n",
    "- 步骤1: 读取保存在本地的html文件；\n",
    "- 步骤2：解析并提取其中的图片链接；\n",
    "- 步骤3：输出提取结果到屏幕；\n",
    "- 步骤4：保存提取结果为文件。\n",
    "\n",
    "根据上述步骤，可以写出主程序如下。其中设置 了4个函数getHTMLlines()、extractImageUrls()、 showResults()和saveResults()分别对应上述4个 步骤。\n"
   ]
  },
  {
   "cell_type": "code",
   "execution_count": 86,
   "metadata": {},
   "outputs": [],
   "source": [
    "def main(): \n",
    "    inputfile = 'http://www.ngchina.com.cn/'\n",
    "    outputfile = 'nationalgeographic-urls.txt'\n",
    "    htmlLines = getHTMLlines(inputfile) \n",
    "    imageUrls = extractImageUrls(htmlLines) \n",
    "    showResults(imageUrls)\n",
    "    saveResults(outputfile, imageUrls)"
   ]
  },
  {
   "cell_type": "markdown",
   "metadata": {},
   "source": [
    "定义main()函数的目的是为了让代码更加清晰， 作为主程序，也可以不采用函数形式而直接编写。 main()前两行分别制定了拟获取HTML文件的路 径和结果输出路径。 \n",
    "\n",
    "主函数设计完成后，逐一编写各函数功能。\n"
   ]
  },
  {
   "cell_type": "markdown",
   "metadata": {},
   "source": [
    "getHTMLlines()函数读取HTML文件并内容， 并将结果转换为一个分行列表，为了兼容不同编 码，建议在open()函数中增加encoding字段，设 置采用UTF-8编码打开文件。代码如下。\n"
   ]
  },
  {
   "cell_type": "code",
   "execution_count": 87,
   "metadata": {},
   "outputs": [],
   "source": [
    "def getHTMLlines(htmlpath):\n",
    "    f = open(htmlpath, \"r\", encoding='gbk')\n",
    "    ls = f.readlines() \n",
    "    f.close() \n",
    "    return ls"
   ]
  },
  {
   "cell_type": "markdown",
   "metadata": {},
   "source": [
    "extractImageUrls()是程序的核心，用于解析文 件并提取图像的URL。观察HTML可以发现，图 像采用img标签表示，例如：\n",
    "\n",
    "<img title=\"photo story\" src=\"http://image.nationalgeographic.com.cn/2018/0122/20 180122042251164.jpg\" width=\"968px\" /> "
   ]
  },
  {
   "cell_type": "markdown",
   "metadata": {},
   "source": [
    "其中，<img开头是图像标签的特点，其中由src=所引导 的URL是这个图像的真实位置。每个URL都以http开头。 因此，可以通过字符串操作提取其中的图像链接。\n"
   ]
  },
  {
   "cell_type": "code",
   "execution_count": 88,
   "metadata": {},
   "outputs": [],
   "source": [
    "def extractImageUrls(htmllist):\n",
    "    urls = []\n",
    "    for line in htmllist: \n",
    "        if 'img' in line:\n",
    "            url = line.split('src=')[-1].split('\"')[1]\n",
    "            if 'http' in url:\n",
    "                urls.append(url)\n",
    "    return url "
   ]
  },
  {
   "cell_type": "markdown",
   "metadata": {},
   "source": [
    " showResults()函数将获取的链接输出到屏幕上，增加一 个计数变量提供更好用户体验，代码如下。"
   ]
  },
  {
   "cell_type": "code",
   "execution_count": 89,
   "metadata": {},
   "outputs": [],
   "source": [
    "def showResults(urls):\n",
    "    count = 0 \n",
    "    for url in urls:\n",
    "        print('第{:2}个URL:{}'.format(count, url))\n",
    "        count += 1"
   ]
  },
  {
   "cell_type": "markdown",
   "metadata": {},
   "source": [
    "saveResults()保存结果到文件，代码如下"
   ]
  },
  {
   "cell_type": "code",
   "execution_count": 90,
   "metadata": {},
   "outputs": [],
   "source": [
    "def saveResults(filepath, urls):\n",
    "    f = open(filepath, \"w\")\n",
    "    for url in urls:\n",
    "        f.write(url+\"\\n\")\n",
    "    f.close()"
   ]
  },
  {
   "cell_type": "markdown",
   "metadata": {},
   "source": [
    "各部分函数代码编写后，全部代码功能具备，需要额外 调用main()函数"
   ]
  },
  {
   "cell_type": "code",
   "execution_count": 91,
   "metadata": {},
   "outputs": [
    {
     "ename": "OSError",
     "evalue": "[Errno 22] Invalid argument: 'http://www.ngchina.com.cn/'",
     "output_type": "error",
     "traceback": [
      "\u001b[1;31m---------------------------------------------------------------------------\u001b[0m",
      "\u001b[1;31mOSError\u001b[0m                                   Traceback (most recent call last)",
      "\u001b[1;32m<ipython-input-91-263240bbee7e>\u001b[0m in \u001b[0;36m<module>\u001b[1;34m\u001b[0m\n\u001b[1;32m----> 1\u001b[1;33m \u001b[0mmain\u001b[0m\u001b[1;33m(\u001b[0m\u001b[1;33m)\u001b[0m\u001b[1;33m\u001b[0m\u001b[1;33m\u001b[0m\u001b[0m\n\u001b[0m",
      "\u001b[1;32m<ipython-input-86-c8d5607cda17>\u001b[0m in \u001b[0;36mmain\u001b[1;34m()\u001b[0m\n\u001b[0;32m      2\u001b[0m     \u001b[0minputfile\u001b[0m \u001b[1;33m=\u001b[0m \u001b[1;34m'http://www.ngchina.com.cn/'\u001b[0m\u001b[1;33m\u001b[0m\u001b[1;33m\u001b[0m\u001b[0m\n\u001b[0;32m      3\u001b[0m     \u001b[0moutputfile\u001b[0m \u001b[1;33m=\u001b[0m \u001b[1;34m'nationalgeographic-urls.txt'\u001b[0m\u001b[1;33m\u001b[0m\u001b[1;33m\u001b[0m\u001b[0m\n\u001b[1;32m----> 4\u001b[1;33m     \u001b[0mhtmlLines\u001b[0m \u001b[1;33m=\u001b[0m \u001b[0mgetHTMLlines\u001b[0m\u001b[1;33m(\u001b[0m\u001b[0minputfile\u001b[0m\u001b[1;33m)\u001b[0m\u001b[1;33m\u001b[0m\u001b[1;33m\u001b[0m\u001b[0m\n\u001b[0m\u001b[0;32m      5\u001b[0m     \u001b[0mimageUrls\u001b[0m \u001b[1;33m=\u001b[0m \u001b[0mextractImageUrls\u001b[0m\u001b[1;33m(\u001b[0m\u001b[0mhtmlLines\u001b[0m\u001b[1;33m)\u001b[0m\u001b[1;33m\u001b[0m\u001b[1;33m\u001b[0m\u001b[0m\n\u001b[0;32m      6\u001b[0m     \u001b[0mshowResults\u001b[0m\u001b[1;33m(\u001b[0m\u001b[0mimageUrls\u001b[0m\u001b[1;33m)\u001b[0m\u001b[1;33m\u001b[0m\u001b[1;33m\u001b[0m\u001b[0m\n",
      "\u001b[1;32m<ipython-input-87-71ac073a1462>\u001b[0m in \u001b[0;36mgetHTMLlines\u001b[1;34m(htmlpath)\u001b[0m\n\u001b[0;32m      1\u001b[0m \u001b[1;32mdef\u001b[0m \u001b[0mgetHTMLlines\u001b[0m\u001b[1;33m(\u001b[0m\u001b[0mhtmlpath\u001b[0m\u001b[1;33m)\u001b[0m\u001b[1;33m:\u001b[0m\u001b[1;33m\u001b[0m\u001b[1;33m\u001b[0m\u001b[0m\n\u001b[1;32m----> 2\u001b[1;33m     \u001b[0mf\u001b[0m \u001b[1;33m=\u001b[0m \u001b[0mopen\u001b[0m\u001b[1;33m(\u001b[0m\u001b[0mhtmlpath\u001b[0m\u001b[1;33m,\u001b[0m \u001b[1;34m\"r\"\u001b[0m\u001b[1;33m,\u001b[0m \u001b[0mencoding\u001b[0m\u001b[1;33m=\u001b[0m\u001b[1;34m'gbk'\u001b[0m\u001b[1;33m)\u001b[0m\u001b[1;33m\u001b[0m\u001b[1;33m\u001b[0m\u001b[0m\n\u001b[0m\u001b[0;32m      3\u001b[0m     \u001b[0mls\u001b[0m \u001b[1;33m=\u001b[0m \u001b[0mf\u001b[0m\u001b[1;33m.\u001b[0m\u001b[0mreadlines\u001b[0m\u001b[1;33m(\u001b[0m\u001b[1;33m)\u001b[0m\u001b[1;33m\u001b[0m\u001b[1;33m\u001b[0m\u001b[0m\n\u001b[0;32m      4\u001b[0m     \u001b[0mf\u001b[0m\u001b[1;33m.\u001b[0m\u001b[0mclose\u001b[0m\u001b[1;33m(\u001b[0m\u001b[1;33m)\u001b[0m\u001b[1;33m\u001b[0m\u001b[1;33m\u001b[0m\u001b[0m\n\u001b[0;32m      5\u001b[0m     \u001b[1;32mreturn\u001b[0m \u001b[0mls\u001b[0m\u001b[1;33m\u001b[0m\u001b[1;33m\u001b[0m\u001b[0m\n",
      "\u001b[1;31mOSError\u001b[0m: [Errno 22] Invalid argument: 'http://www.ngchina.com.cn/'"
     ]
    }
   ],
   "source": [
    "main()"
   ]
  }
 ],
 "metadata": {
  "kernelspec": {
   "display_name": "Python 3",
   "language": "python",
   "name": "python3"
  },
  "language_info": {
   "codemirror_mode": {
    "name": "ipython",
    "version": 3
   },
   "file_extension": ".py",
   "mimetype": "text/x-python",
   "name": "python",
   "nbconvert_exporter": "python",
   "pygments_lexer": "ipython3",
   "version": "3.7.3"
  }
 },
 "nbformat": 4,
 "nbformat_minor": 4
}
