{
 "cells": [
  {
   "cell_type": "markdown",
   "metadata": {},
   "source": [
    "## Python标准库概览"
   ]
  },
  {
   "cell_type": "markdown",
   "metadata": {},
   "source": [
    "### 1 turtle库概述\n",
    "\n",
    "#### turtle库概\n",
    "\n",
    "turtle（海龟）是Python重要的标准库之一，它能够进 行基本的图形绘制。 \n",
    "\n",
    "turtle库绘制图形有一个基本框架：一个小海龟在坐标系 中爬行，其爬行轨迹形成了绘制图形。对于小海龟来说，有“前进”、“后退”、“旋转”等爬行行为，对坐标系的探索也通过“前进方向”、“后退方向”、“左侧方向”和“右侧方向”等小海龟自身角度方位来完成。\n",
    " \n",
    "使用import保留字对turtle库的引用有如下三种 方式\n",
    "- 第一种，import turtle，则对turtle库中函数调 用采用turtle.<函数名>()形式。\n",
    "\n",
    "- 第二种，from turtle import *，则对turtle库中 函数调用直接采用<函数名>()形式，不在使用 turtle.作为前导。\n",
    "\n",
    "- 第三种，import turtle as t，则对turtle库中函数 调用采用更简洁的t.<函数名>()形式，保留字as 的作用是将turtle库给予别名t。\n",
    " \n",
    "turtle库包含100多个功能函数，主要包括窗体函 数、画笔状态函数、画笔运动函数等三类。\n",
    "\n",
    "#### 窗体函数\n",
    "\n",
    "turtle.setup(width, height, startx, starty) \n",
    "\n",
    "作用：设置主窗体的大小和位置 \n",
    "\n",
    "参数： width ：窗口宽度，如果值是整数，表示的像素值；如果值 是小数，表示窗口宽度与屏幕的比例；\n",
    "\n",
    "height: 窗口高度，如果值是整数，表示的像素值；如果 值是小数，表示窗口高度与屏幕的比例； \n",
    "\n",
    "startx：窗口左侧与屏幕左侧的像素距离，如果值是None ，窗口位于屏幕水平中央； \n",
    "\n",
    "starty：窗口顶部与屏幕顶部的像素距离，如果值是None ，窗口位于屏幕垂直中央；\n",
    "\n",
    "#### 画笔状态函数\n",
    "\n",
    "|函数 |描述|\n",
    "|:--:|:--:|\n",
    "|pendown() |放下画笔 |\n",
    "|penup()| 提起画笔，与pendown()配对使用 |\n",
    "|pensize(width) |设置画笔线条的粗细为指定大小|\n",
    "|color() |设置画笔的颜色|\n",
    "|begin_fill()| 填充图形前，调用该方法|\n",
    "|end_fill()| 填充图形结束 filling() 返回填充的状态，True为填充，False为未填充 |\n",
    "|clear()| 清空当前窗口，但不改变当前画笔的位置|\n",
    "|reset()| 清空当前窗口，并重置位置等状态为默认值|\n",
    "|screensize()| 设置画布的长和宽|\n",
    "|hideturtle()| 隐藏画笔的turtle形状|\n",
    "|showturtle()| 显示画笔的turtle形状|\n",
    "|isvisible() |如果turtle可见，则返回True|\n",
    "\n",
    "- turtle中的画笔（即小海龟）可以通过一组函数 来控制，其中turtle.penup()和turtle.pendown() 是一组，它们分别表示画笔的和落下，函数定义如下：\n",
    "\n",
    "turtle.penup()别名turtle.pu(),turtle.up() \n",
    "\n",
    "作用：抬起画笔，之后，移动画笔不绘制形状\n",
    "\n",
    "参数：\n",
    "\n",
    "无 \n",
    "\n",
    "turtle.pendown()别名turtle.pd(),turtle.down() \n",
    "\n",
    "作用：落下画笔，之后，移动画笔将绘制形状\n",
    "\n",
    "参数：\n",
    "\n",
    "无\n",
    "\n",
    "- turtle.pensize()函数用来设置画笔尺寸 \n",
    "\n",
    "turtle.pensize(width)别名turtle.width() \n",
    "\n",
    "作用：设置画笔宽度，当无参数输入时返回当前画笔宽度\n",
    "\n",
    "参数：\n",
    "\n",
    "width：设置的画笔线条宽度，如果为None或者为空，函数则返回当前画笔宽度。\n",
    "\n",
    "- turtle.pencolor()函数给画笔设置颜色 turtle.pencolor(colorstring)或者turtle.pencolor((r,g,b)) \n",
    " \n",
    "作用：设置画笔颜色，当无参数输入时返回当前画笔颜色 \n",
    "\n",
    "参数： \n",
    "\n",
    "colorstring：表示颜色的字符串，例如：\"purple\"、\"red\"、\"blue\"等 (r,g,b): 颜色对应RGB的01数值，例如：1, 0.65, 0 \n",
    "\n",
    "#### 画笔运动函数\n",
    "|函数| 描述|\n",
    "|:--:|:--:|\n",
    "|forward()| 沿着当前方向前进指定距离|\n",
    "|backward()| 沿着当前相反方向后退指定距离|\n",
    "|right(angle)| 向右旋转angle角度 |\n",
    "|left(angle)| 向左旋转angle角度 |\n",
    "|goto(x,y) |移动到绝对坐标（x,y）处 |\n",
    "|setx( ) |将当前x轴移动到指定位置|\n",
    "|sety( )| 将当前y轴移动到指定位置 |\n",
    "|setheading(angle)| 设置当前朝向为angle角度 |\n",
    "|home() |设置当前画笔位置为原点，朝向东。|\n",
    "|circle(radius,e) |绘制一个指定半径r和角度e的圆或弧形 |\n",
    "|dot(r,color)| 绘制一个指定半径r和颜色color的圆点|\n",
    "|undo()| 撤销画笔最后一步动作 |\n",
    "|speed() |设置画笔的绘制速度，参数为0-10之间|\n",
    "\n",
    "- turtle.fd()函数最常用，它控制画笔向当前行进 方向前进一个距离 画笔状态函数\n",
    "\n",
    "turtle.fd(distance)别名turtle.forward(distance) \n",
    "\n",
    "作用：向小海龟当前行进方向前进distance距离 \n",
    "\n",
    "参数：\n",
    "\n",
    "distance：行进距离的像素值，当值为负数时，表示向相反方向前进。\n",
    "\n",
    "- turtle.seth()函数用来改变画笔绘制方向\n",
    "\n",
    "turtle.seth(to_angle)别名turtle.setheading(to_angle) \n",
    "\n",
    "作用：设置小海龟当前行进方向为to_angle，该角度是绝对方向角度值。 \n",
    "\n",
    "参数：\n",
    "\n",
    "to_angle：角度的整数值。\n",
    "\n",
    "-  turtle.circle()函数用来绘制一个弧形 画笔状态函数\n",
    "turtle.circle(radius, extent=None) \n",
    "\n",
    "作用：根据半径radius绘制extent角度的弧形。\n",
    "\n",
    "参数：\n",
    "\n",
    "radius ：弧形半径，当值为正数时，半径在小海龟左侧，当值为负数时，半 径在小海龟右侧； \n",
    "\n",
    "extent : 绘制弧形的角度，当不给该参数或参数为None时，绘制整个圆形。"
   ]
  },
  {
   "cell_type": "markdown",
   "metadata": {},
   "source": [
    "### 2 random库概述\n",
    "\n",
    "#### random库概述\n",
    "\n",
    "使用random库主要目的是生成随机数 \n",
    "\n",
    "这个库提供了不同类型的随机数函数，其中 最基本的函数是random.random()，它生成 一个[0.0, 1.0)之间的随机小数，所有其他随 机函数都是基于这个函数扩展而来。 \n",
    "\n",
    "#### random库与随机数运用\n",
    "\n",
    "random库的常用函数\n",
    "\n",
    "|函数 |描述|\n",
    "|:--:|:--:|\n",
    "|seed(a=None)| 初始化随机数种子，默认值为当前系统时间 |\n",
    "|random()| 生成一个[0.0, 1.0)之间的随机小数 |\n",
    "|randint(a, b)| 生成一个[a,b]之间的整数|\n",
    "|getrandbits(k)| 生成一个k比特长度的随机整数 |\n",
    "|randrange(start, stop[, step]) |生成一个[start, stop)之间以step为步数的随机整数| |uniform(a, b)| 生成一个[a, b]之间的随机小数 |\n",
    "|choice(seq)| 从序列类型(例如：列表)中随机返回一个元素 |\n",
    "|shuffle(seq) |将序列类型中元素随机排列，返回打乱后的序列|\n",
    "|sample(pop, k) |从pop类型中随机选取k个元素，以列表类型返回|"
   ]
  },
  {
   "cell_type": "markdown",
   "metadata": {},
   "source": [
    "random库使用random.seed(a)对后续产生的 随机数设置种子a。 "
   ]
  },
  {
   "cell_type": "code",
   "execution_count": 2,
   "metadata": {},
   "outputs": [
    {
     "name": "stdout",
     "output_type": "stream",
     "text": [
      "0.5714025946899135\n",
      "0.4288890546751146\n",
      "0.5714025946899135\n"
     ]
    }
   ],
   "source": [
    "from random import *\n",
    "seed(10)\n",
    "print(random())\n",
    "print(random())\n",
    "seed(10) #再次设置相同的种子，则后续产生的随机数相同 \n",
    "print(random())"
   ]
  },
  {
   "cell_type": "markdown",
   "metadata": {},
   "source": [
    "设置随机数种子的好处是可以准确复现随机 数序列，用于重复程序的运行轨迹。对于仅 使用随机数但不需要复现的情形，可以不用 设置随机数种子。 \n",
    "\n",
    "如果程序没有显式设置随机数种子，则使用 随机数生成函数前，将默认以当前系统的运 行时间为种子产生随机序列。 "
   ]
  },
  {
   "cell_type": "markdown",
   "metadata": {},
   "source": [
    "### 3 time库概述\n",
    "\n",
    "#### time库概述\n",
    "\n",
    "处理时间是程序最常用的功能之一，time库 是Python提供的处理时间标准库。time库提 供系统级精确计时器的计时功能，可以用来 分析程序性能，也可让程序暂停运行时间。 "
   ]
  },
  {
   "cell_type": "code",
   "execution_count": 3,
   "metadata": {},
   "outputs": [
    {
     "data": {
      "text/plain": [
       "time.struct_time(tm_year=2020, tm_mon=7, tm_mday=8, tm_hour=10, tm_min=46, tm_sec=47, tm_wday=2, tm_yday=190, tm_isdst=0)"
      ]
     },
     "execution_count": 3,
     "metadata": {},
     "output_type": "execute_result"
    }
   ],
   "source": [
    "import time\n",
    "time.localtime()"
   ]
  },
  {
   "cell_type": "markdown",
   "metadata": {},
   "source": [
    "time库的功能主要分为3个方面：时间处理、 时间格式化和计时。\n",
    "- 时间处理主要包括4个函数：time.time()、 time.gmtime()、time.localtime() 、time.ctime()。 \n",
    "\n",
    "- 时间格式化主要包括3个函数：time.mktime()、 time.strftime()、time.strptime()。\n",
    "\n",
    "+ 计时主要包括3个函数：time.sleep( )、time.monotonic()、time.perf_counter() "
   ]
  },
  {
   "cell_type": "markdown",
   "metadata": {},
   "source": [
    "使用time.time()获取当前时间戳"
   ]
  },
  {
   "cell_type": "code",
   "execution_count": 5,
   "metadata": {},
   "outputs": [
    {
     "data": {
      "text/plain": [
       "1594176512.0625587"
      ]
     },
     "execution_count": 5,
     "metadata": {},
     "output_type": "execute_result"
    }
   ],
   "source": [
    "import time\n",
    "time.time()"
   ]
  },
  {
   "cell_type": "markdown",
   "metadata": {},
   "source": [
    " 使用time.gmtime(secs)获取当前时间戳对应 的struct_time对象\n"
   ]
  },
  {
   "cell_type": "code",
   "execution_count": 8,
   "metadata": {},
   "outputs": [
    {
     "data": {
      "text/plain": [
       "time.struct_time(tm_year=2020, tm_mon=7, tm_mday=8, tm_hour=2, tm_min=56, tm_sec=47, tm_wday=2, tm_yday=190, tm_isdst=0)"
      ]
     },
     "execution_count": 8,
     "metadata": {},
     "output_type": "execute_result"
    }
   ],
   "source": [
    "time.gmtime()"
   ]
  },
  {
   "cell_type": "markdown",
   "metadata": {},
   "source": [
    " 使用time.localtime(secs)获取当前时间戳对 应的本地时间的struct_time对象\n"
   ]
  },
  {
   "cell_type": "code",
   "execution_count": 10,
   "metadata": {},
   "outputs": [
    {
     "data": {
      "text/plain": [
       "time.struct_time(tm_year=2020, tm_mon=7, tm_mday=8, tm_hour=10, tm_min=57, tm_sec=54, tm_wday=2, tm_yday=190, tm_isdst=0)"
      ]
     },
     "execution_count": 10,
     "metadata": {},
     "output_type": "execute_result"
    }
   ],
   "source": [
    "time.localtime() "
   ]
  },
  {
   "cell_type": "markdown",
   "metadata": {},
   "source": [
    "使用time.ctime(secs)获取当前时间戳对应的 易读字符串表示，内部会调用time.localtime() 函数以输出当地时间。 "
   ]
  },
  {
   "cell_type": "code",
   "execution_count": 11,
   "metadata": {},
   "outputs": [
    {
     "data": {
      "text/plain": [
       "'Wed Jul  8 10:58:38 2020'"
      ]
     },
     "execution_count": 11,
     "metadata": {},
     "output_type": "execute_result"
    }
   ],
   "source": [
    "time.ctime()"
   ]
  },
  {
   "cell_type": "markdown",
   "metadata": {},
   "source": [
    "time库使用time.mktime()、time.strftime()、 time.strptime()进行时间格式化。\n",
    "\n",
    "使用time.mktime(t) 将struct_time对象t转换 为时间戳，注意t代表当地时间。struct_time 对象的元素如下\n",
    "\n",
    "|下标 |属性|值 |\n",
    "|:--:|:--:|:--:|\n",
    "|0| tm_year| 年份，整数|\n",
    "|1|tm_mon| 月份[1, 12] |\n",
    "|2 |tm_mday |日期[1, 31] |\n",
    "|3 |tm_hour| 小时[0, 23] |\n",
    "|4 |tm_min |分钟[0, 59]|\n",
    "|5 |tm_sec |秒[0, 61] |\n",
    "|6| tm_wday| 星期[0, 6]（0表示星期一）|\n",
    "|7 |tm_yday| 该年第几天[1, 366]|\n",
    "|8 |tm_isdst| 是否夏时令，0否, 1是, -1未知|\n"
   ]
  },
  {
   "cell_type": "markdown",
   "metadata": {},
   "source": [
    "调用time.mktime(t)函数"
   ]
  },
  {
   "cell_type": "code",
   "execution_count": 13,
   "metadata": {},
   "outputs": [
    {
     "name": "stdout",
     "output_type": "stream",
     "text": [
      "1594178483.0\n"
     ]
    },
    {
     "data": {
      "text/plain": [
       "'Wed Jul  8 11:21:23 2020'"
      ]
     },
     "execution_count": 13,
     "metadata": {},
     "output_type": "execute_result"
    }
   ],
   "source": [
    "t = time.localtime()\n",
    "print(time.mktime(t))\n",
    "time.ctime(time.mktime(t)) "
   ]
  },
  {
   "cell_type": "markdown",
   "metadata": {},
   "source": [
    " time.strftime()函数是时间格式化最有效的方法，几 乎可以以任何通用格式输出时间。该方法利用一个 格式字符串，对时间格式进行表达"
   ]
  },
  {
   "cell_type": "code",
   "execution_count": 15,
   "metadata": {},
   "outputs": [
    {
     "name": "stdout",
     "output_type": "stream",
     "text": [
      "time.struct_time(tm_year=2020, tm_mon=7, tm_mday=8, tm_hour=11, tm_min=23, tm_sec=10, tm_wday=2, tm_yday=190, tm_isdst=0)\n",
      "2020-07-08 11:23:10\n"
     ]
    }
   ],
   "source": [
    "lctime = time.localtime()\n",
    "print(lctime)\n",
    "print(time.strftime(\"%Y-%m-%d %H:%M:%S\", lctime))"
   ]
  },
  {
   "cell_type": "markdown",
   "metadata": {},
   "source": [
    "strftime()方法的格式化控制符 \n",
    "\n",
    "|格式化字符串| 日期/时间| 值范围和实例 |\n",
    "|:--:|:--:|:--:|\n",
    "|%Y| 年份 |0001~9999，例如：1900|\n",
    "|%m |月份 |01~12，例如：10 |\n",
    "|%B |月名 |January~December，例如：April|\n",
    "|%b |月名缩写| Jan~Dec，例如：Apr |\n",
    "|%d |日期| 01 ~ 31，例如：25|\n",
    "|%A |星期 |Monday~Sunday，例如：Wednesday|\n",
    "|%a| 星期缩写 |Mon~Sun，例如：Wed|\n",
    "|%H |小时（24h制）| 00 ~ 23，例如：12 |\n",
    "|%I |小时（12h制）| 01 ~ 12，例如：7 |\n",
    "|%p |上/下午| AM, PM，例如：PM|\n",
    "|%M |分钟 |00 ~ 59，例如：26、\n",
    "|%S |秒 |00 ~ 59，例如：26|"
   ]
  },
  {
   "cell_type": "markdown",
   "metadata": {},
   "source": [
    "strptime()方法与strftime()方法完全相反，用 于提取字符串中时间来生成strut_time对象， 可以很灵活的作为time模块的输入接口 "
   ]
  },
  {
   "cell_type": "code",
   "execution_count": 16,
   "metadata": {},
   "outputs": [
    {
     "data": {
      "text/plain": [
       "time.struct_time(tm_year=2020, tm_mon=7, tm_mday=8, tm_hour=11, tm_min=26, tm_sec=20, tm_wday=2, tm_yday=190, tm_isdst=-1)"
      ]
     },
     "execution_count": 16,
     "metadata": {},
     "output_type": "execute_result"
    }
   ],
   "source": [
    "timeString = '2020-07-08 11:26:20' \n",
    "time.strptime(timeString, \"%Y-%m-%d %H:%M:%S\") "
   ]
  },
  {
   "cell_type": "markdown",
   "metadata": {},
   "source": [
    "### 4 time库与程序计时"
   ]
  },
  {
   "cell_type": "markdown",
   "metadata": {},
   "source": [
    "#### time库与程序计时\n",
    "\n",
    "程序计时是非常常用的功能，尤其是对于运 行时间较长的程序，往往需要先进行小规模 （短时间）的实验，并根据实验结果预估最 终程序的大致运行时间。 \n",
    "\n",
    "程序计时主要要包含三个要素：程序开始/结 束时间、程序运行总时间、程序各核心模块 运行时间。\n",
    "\n",
    "下面以1千万次循环计时为例介绍程序计时的 实现，并进一步理解time模块相关函数的运 用。\n",
    "\n",
    "以1千万次循环为主体，模拟实际程序的核心 模块，用time.sleep()来模拟实际程序的其他 模块。 "
   ]
  },
  {
   "cell_type": "code",
   "execution_count": 39,
   "metadata": {},
   "outputs": [
    {
     "name": "stdout",
     "output_type": "stream",
     "text": [
      "程序开始时间： 2020-07-08 11:40:56\n",
      "模块1运行时间是:0.20056209999984276秒\n",
      "核心模块运行时间是:4.647547600000507秒\n",
      "模块2运行时间是:0.3995998000000327秒\n",
      "程序运行总时间是:5.247711199999685秒\n",
      "程序结束时间： 2020-07-08 11:41:01\n"
     ]
    }
   ],
   "source": [
    "import time \n",
    "\n",
    "def coreLoop(): \n",
    "    limit = 10**8\n",
    "    while (limit > 0): \n",
    "        limit -= 1\n",
    "        \n",
    "def otherLoop1():\n",
    "    time.sleep(0.2)\n",
    "    \n",
    "def otherLoop2(): \n",
    "    time.sleep(0.4) \n",
    "    \n",
    "def main():\n",
    "    startTime = time.localtime()\n",
    "    print(\"程序开始时间：\", time.strftime(\"%Y-%m-%d %H:%M:%S\", startTime))\n",
    "    startPerfCounter = time.perf_counter()\n",
    "    otherLoop1()\n",
    "    otherLoop1PerfCounter = time.perf_counter()\n",
    "    otherLoop1Perf = otherLoop1PerfCounter - startPerfCounter\n",
    "    coreLoop()\n",
    "    coreLoopPerfCounter = time.perf_counter()\n",
    "    coreLoopPerf = coreLoopPerfCounter - otherLoop1PerfCounter\n",
    "    otherLoop2()\n",
    "    otherLoop2PerfCounter = time.perf_counter()\n",
    "    otherLoop2Perf = otherLoop2PerfCounter - coreLoopPerfCounter\n",
    "    endPerfCounter = time.perf_counter()\n",
    "    totalPerf = endPerfCounter - startPerfCounter\n",
    "    endTime = time.localtime()\n",
    "    print(\"模块1运行时间是:{}秒\".format(otherLoop1Perf))\n",
    "    print(\"核心模块运行时间是:{}秒\".format(coreLoopPerf))\n",
    "    print(\"模块2运行时间是:{}秒\".format(otherLoop2Perf))\n",
    "    print(\"程序运行总时间是:{}秒\".format(totalPerf))\n",
    "    print('程序结束时间：', time.strftime(\"%Y-%m-%d %H:%M:%S\", endTime))\n",
    "\n",
    "main()"
   ]
  },
  {
   "cell_type": "markdown",
   "metadata": {},
   "source": [
    "### 5 实例解析：雪景艺术绘图\n",
    "\n",
    "#### 雪景艺术绘图\n",
    "\n",
    "- 第一步，构建图的背景\n",
    "\n",
    "设定窗体大小为800x600像素，窗体颜色为black。 然后，定义上方雪花绘制函数drawSnow()和下 方雪地绘制函数drawGround()。\n",
    "\n",
    "- 第二步，绘制雪花效果。\n",
    "\n",
    "为体现艺术效果，drawSnow()函数首先隐藏 turtle画笔、设置画笔大小、绘制速度，然后使 用for循环绘制100朵雪花。雪花大小snowsize、 雪花花瓣数dens都分别设定为一定数值范围随 机数。最后通过for循环绘制出多彩雪花。\n",
    " \n",
    "- 第三步，绘制雪地效果。\n",
    "\n",
    "drawGround()函数使用for循环绘制地面400个 小横线，画笔大小pensize、位置坐标x、y、线 段长度均通过randint()函数作为随机数产生。"
   ]
  },
  {
   "cell_type": "code",
   "execution_count": 45,
   "metadata": {},
   "outputs": [],
   "source": [
    "from turtle import * \n",
    "from random import *\n",
    "def drawSnow():\n",
    "    hideturtle()\n",
    "    pensize(2)\n",
    "    for i in range(100):\n",
    "        r, g, b = random(), random(), random()\n",
    "        pencolor(r,g,b)\n",
    "        penup()\n",
    "        setx(randint(-350,350))\n",
    "        sety(randint(1,270))\n",
    "        pendown()\n",
    "        dens = randint(8,12)\n",
    "        snowsize = randint(10,14)\n",
    "        for j in range(dens):\n",
    "            forward(snowsize)\n",
    "            backward(snowsize)\n",
    "            right(360/dens)\n",
    "\n",
    "def drawGround():\n",
    "    hideturtle()\n",
    "    for i in range(400):\n",
    "        pensize(randint(5,10))\n",
    "        x = randint(-400,350)\n",
    "        y = randint(-280,-1)\n",
    "        r, g, b = -y/280, -y/280, -y/280\n",
    "        pencolor((r, g, b))\n",
    "        penup()\n",
    "        goto(x,y)\n",
    "        pendown()\n",
    "        forward(randint(40,100))\n",
    "        \n",
    "setup(800,600,200,200) \n",
    "tracer(False) \n",
    "bgcolor(\"black\")\n",
    "drawSnow() \n",
    "drawGround() \n",
    "done()"
   ]
  }
 ],
 "metadata": {
  "kernelspec": {
   "display_name": "Python 3",
   "language": "python",
   "name": "python3"
  },
  "language_info": {
   "codemirror_mode": {
    "name": "ipython",
    "version": 3
   },
   "file_extension": ".py",
   "mimetype": "text/x-python",
   "name": "python",
   "nbconvert_exporter": "python",
   "pygments_lexer": "ipython3",
   "version": "3.7.3"
  }
 },
 "nbformat": 4,
 "nbformat_minor": 4
}
