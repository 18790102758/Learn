{
 "cells": [
  {
   "cell_type": "markdown",
   "metadata": {},
   "source": [
    "## Python概述"
   ]
  },
  {
   "cell_type": "markdown",
   "metadata": {},
   "source": [
    "### 1 Python语言的诞生"
   ]
  },
  {
   "cell_type": "markdown",
   "metadata": {},
   "source": [
    "Python语言的创立者：Guido van Rossum\n",
    "\n",
    "2002年，Python2.x\n",
    "\n",
    "2008年，Python3.x"
   ]
  },
  {
   "cell_type": "code",
   "execution_count": 1,
   "metadata": {},
   "outputs": [
    {
     "name": "stdout",
     "output_type": "stream",
     "text": [
      "hello world\n"
     ]
    }
   ],
   "source": [
    "#最小的Python程序\n",
    "print(\"hello world\")"
   ]
  },
  {
   "cell_type": "markdown",
   "metadata": {},
   "source": [
    "### 2 Python环境的配置"
   ]
  },
  {
   "cell_type": "markdown",
   "metadata": {},
   "source": [
    "到Python主页下载并安装Python基本开发和运行环境，网址：www.python.org/downloads/ 根据操作系统的不同选择不同版本，目前主流的是Python3.0系列版本。除了Python自带的IDLE可以用来编写程序之外，还有其他几个较为操作的编辑器，例如PyCharm，PyCharm是一种Python IDE，带有一整套可以帮助用户在使用Python语言开发时提高其效率的工具，比如调试、语法高亮、Project管理、代码跳转、智能提示、自动完成、单元测试、版本控制。此外，该IDE提供了一些高级功能，以用于支持Django框架下的专业Web开发。下载网址 www.jetbrains.com/pycharm/download/ ，还有Anaconda，Anaconda附带了一大批常用的数据科学包，不需要使用pip进行下载；自带的conda管理包和环境能减少在处理数据的过程中遇到的各种库和版本的问题。网址： https://www.anaconda.com/products/individual 。"
   ]
  },
  {
   "cell_type": "markdown",
   "metadata": {},
   "source": [
    "### 3 程序的基本编写方法"
   ]
  },
  {
   "cell_type": "markdown",
   "metadata": {},
   "source": [
    "#### IPO程序编写方法\n",
    "##### 输入数据 \n",
    "输入（Input）是一个程序的开始。程序要处理的 数据有多种来源，形成了多种输入方式，包括：文件输入、网络输入、控制台输入、交互界面输出、随机数据输入、内部参数输入等。\n",
    "##### 处理数据\n",
    "处理（Process）是程序对输入数据进行计算产生输 出结果的过程。计算问题的处理方法统称为“算法”，它是程序最重要的组成部分。可以说，算法是一个程序的灵魂。\n",
    "##### 输出数据\n",
    "输出（Output）是程序展示运算成果的方式。程序 的输出方式包括：控制台输出、图形输出、文件输出、网络输出、操作系统内部变量输出等。\n"
   ]
  },
  {
   "cell_type": "markdown",
   "metadata": {},
   "source": [
    "### 4 Python程序的特点\n",
    "#### Python具有通用性\n",
    "Python语言可以用于几乎任何与程序设计相关 应用的开发，不仅适合训练变成思维，更适合诸如 数据分析、机器学习、人工智能、Web开发等具体的 技术领域。\n",
    "#### Python语法简洁\n",
    "Python语法主要用来精确表达问题逻辑，更接 近自然语言，只有33个保留字，十分简洁。\n",
    "#### Python生态高产\n",
    "Python解释器提供了几百个内置类和函数库， 此外，世界各地程序员通过开源社区贡献了十几万个第三方函数库，几乎覆盖了计算机技术的各个领 域，编写Python程序可以大量利用已有内置或第三 方代码，具备良好的编程生态。\n",
    "#### 平台无关\n",
    "Python程序可以在任何安装解释器的计算机环 境中执行，因此，可以不经修改地实现跨操作系统运行。\n",
    "#### 强制可读\n",
    "Python通过强制缩进（类似文章段落的首行空 格）来体现语句间的逻辑关系，显著提高了程序的 可读性，进而增强了Python程序的可维护性。\n",
    "#### 支持中文\n",
    "Python 3.x版本采用Unicode编码表达所有字 符信息。Unicode是一种国际通用表达字符的编码体 系，这使得Python程序可以直接支持英文、中文、 法文、德文等各类自然语言字符，在处理中文时更\n",
    "加灵活且高效。\n"
   ]
  },
  {
   "cell_type": "markdown",
   "metadata": {},
   "source": [
    "### 实例解析"
   ]
  },
  {
   "cell_type": "markdown",
   "metadata": {},
   "source": [
    "#### 斐波那契数列的计算\n",
    "$F(0) = 0, F(1) = 1, F(n) = F(n-2)+F(n-1)$,其中$n>=2$"
   ]
  },
  {
   "cell_type": "code",
   "execution_count": 4,
   "metadata": {},
   "outputs": [
    {
     "name": "stdout",
     "output_type": "stream",
     "text": [
      "0,1,1,2,3,5,8,13,21,34,55,89,144,233,377,610,987,"
     ]
    }
   ],
   "source": [
    "a, b = 0, 1\n",
    "while a < 1000:\n",
    "    print(a, end = \",\")\n",
    "    a, b = b, a+b"
   ]
  },
  {
   "cell_type": "markdown",
   "metadata": {},
   "source": [
    "#### 圆面积的计算\n",
    "根据圆的半径计算圆的面积。"
   ]
  },
  {
   "cell_type": "code",
   "execution_count": 5,
   "metadata": {},
   "outputs": [
    {
     "name": "stdout",
     "output_type": "stream",
     "text": [
      "1963.4375000000002\n",
      "1963.44\n"
     ]
    }
   ],
   "source": [
    "r = 25\n",
    "area = 3.1415 * r * r\n",
    "print(area)\n",
    "print(\"{:.2f}\".format(area))"
   ]
  },
  {
   "cell_type": "markdown",
   "metadata": {},
   "source": [
    "#### 绘制五角红星\n",
    "用Python程序绘制一个五角红星图形"
   ]
  },
  {
   "cell_type": "code",
   "execution_count": 6,
   "metadata": {},
   "outputs": [],
   "source": [
    "from turtle import *\n",
    "color(\"red\", \"red\")\n",
    "begin_fill()\n",
    "for i in range(5):\n",
    "    fd(200)\n",
    "    rt(144)\n",
    "end_fill()\n",
    "done()"
   ]
  },
  {
   "cell_type": "markdown",
   "metadata": {},
   "source": [
    "### 程序运行计算\n",
    "对一个循环计算一千万次的程序记录并输出齐运行时间"
   ]
  },
  {
   "cell_type": "code",
   "execution_count": 1,
   "metadata": {},
   "outputs": [
    {
     "name": "stdout",
     "output_type": "stream",
     "text": [
      "程序运行时间是：0.6801542999999981秒\n"
     ]
    }
   ],
   "source": [
    "import time\n",
    "limit = 10 * 1000 * 1000\n",
    "start = time.perf_counter()\n",
    "while True:\n",
    "    limit -= 1\n",
    "    if limit <= 0:\n",
    "        break\n",
    "delta = time.perf_counter() - start\n",
    "print(\"程序运行时间是：{}秒\".format(delta))"
   ]
  },
  {
   "cell_type": "markdown",
   "metadata": {},
   "source": [
    "#### 绘制七彩圆圈"
   ]
  },
  {
   "cell_type": "markdown",
   "metadata": {},
   "source": [
    "绘制7个不同颜色的圆圈，组成七彩圆圈图案"
   ]
  },
  {
   "cell_type": "code",
   "execution_count": 2,
   "metadata": {},
   "outputs": [],
   "source": [
    "import turtle\n",
    "colors = [\"red\", \"orange\", \"yellow\", \"green\", \"blue\", \"indigo\", \"purple\"]\n",
    "for i in range(7):\n",
    "    c = colors[i]\n",
    "    turtle.color(c, c)\n",
    "    turtle.begin_fill\n",
    "    turtle.rt(360/7)\n",
    "    turtle.circle(50)\n",
    "    turtle.end_fill()\n",
    "turtle.done()"
   ]
  },
  {
   "cell_type": "code",
   "execution_count": null,
   "metadata": {},
   "outputs": [],
   "source": []
  }
 ],
 "metadata": {
  "kernelspec": {
   "display_name": "Python 3",
   "language": "python",
   "name": "python3"
  },
  "language_info": {
   "codemirror_mode": {
    "name": "ipython",
    "version": 3
   },
   "file_extension": ".py",
   "mimetype": "text/x-python",
   "name": "python",
   "nbconvert_exporter": "python",
   "pygments_lexer": "ipython3",
   "version": "3.7.3"
  }
 },
 "nbformat": 4,
 "nbformat_minor": 4
}
