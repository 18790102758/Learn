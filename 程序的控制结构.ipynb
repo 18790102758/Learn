{
 "cells": [
  {
   "cell_type": "markdown",
   "metadata": {},
   "source": [
    "## 程序的控制结构"
   ]
  },
  {
   "cell_type": "markdown",
   "metadata": {},
   "source": [
    "### 1 程序的基本结构\n",
    "程序流程图用一系列图形、流程线和文字说明描 述程序的基本操作和控制流程，它是程序分析和 过程描述的最基本方式。 \n",
    "\n",
    "- 起止框：表示程序逻辑的开始或结束； \n",
    "- 判断框：表示一个判断条件，并根据判断结果选择不同的 执行路径； \n",
    "- 处理框：表示一组处理过程，对应于顺序执行的程序逻辑； \n",
    "- 输入输出框：表示程序中的数据输入或结果输出； \n",
    "- 注释框：表示程序的注释； \n",
    "- 流向线：表示程序的控制流，以带箭头直线或曲线表达程 序的执行路径； \n",
    "- 连接点：表示多个流程图的连接方式，常用于将多个较小 流程图组织成较大流程图。\n",
    "\n",
    "程序由三种基本结构组成：顺序结构、分支结 构和循环结构。 \n",
    "\n",
    "任何程序都由这三种基本结构组合而成。\n",
    "\n",
    "这些基本结构都有一个入口和一个出口。任何 程序都由这三种基本结构组合而成。\n",
    "\n",
    "- 顺序结构是程序按照线性顺序依次执行的一种运行 方式，其中语句块1S1和语句块S2表示一个或一组 顺序执行的语句 \n",
    "\n",
    "- 分支结构是程序根据条件判断结果而选择不同向前 执行路径的一种运行方式，基础的分支结构是二分 支结构。由二分支结构会组合形成多分支结构 \n",
    "\n",
    "- 循环结构是程序根据条件判断结果向后反复执 行的一种运行方式，根据循环体触发条件不同， 包括条件循环和遍历循环结构\n",
    "\n",
    "在三种基本控制逻辑基础上，Python语言进行 了必要且适当的扩展。 \n",
    "\n",
    "在分支结构原理的基础上，Python增加了异常 处理，使用try-except保留字 \n",
    "\n",
    "异常处理以程序异常为判断条件，根据一段代 码执行的正确性进行程序逻辑选择。异常处理 是分支结构的一种扩展。\n",
    "\n",
    "在循环结构原理的基础上，Python提供两个循 环控制符break和continue，对循环的执行过程 进行控制。break控制符用来结束当前循环， continue控制符用来结束当前循环的当次循环 过程"
   ]
  },
  {
   "cell_type": "markdown",
   "metadata": {},
   "source": [
    "### 2 程序的分支结构\n",
    "#### 单分支结构: if语句 \n",
    "\n",
    "Python的单分支结构使用if保留字对条件进行 判断，使用方式如下 ：\n",
    "\n",
    "if  <条件>: \n",
    "    语句块\n",
    "\n",
    "其中，if、:和<语句块>前的缩进都是语法的一 部分。<语句块>是if条件满足后执行的一个或 多个语句序列，缩进表达<语句块>与if的包含 关系。<条件>是一个产生True或False结果的语 句，当结果为True时，执行<语句块>，否则跳 过<语句块>。\n",
    "\n",
    " <条件>是一个或多个条件，多个条件间采用and或or进 行逻辑组合。and表示多个条件“与”的关系，or表示 多个条件“或”的关系\n",
    "\n",
    "#### 二分支结构: if-else语句 \n",
    "Python的二分支结构使用if-else保留字对条件 进行判断，语法格式如下： \n",
    "\n",
    "if  <条件>: \n",
    "\n",
    "&emsp;&emsp;<语句块1> \n",
    "\n",
    "else: \n",
    "\n",
    "&emsp;&emsp;<语句块2>\n",
    "\n",
    "其中，if、:和语句块前的缩进都是语法的一部分。\n",
    "\n",
    " <语句块1>在if中<条件>满足即为True时执行， <语句块2>在if中<条件>不满足即为False时执 行。简单说，二分支结构根据条件的True或 False结果产生两条路径。\n",
    " \n",
    " 二分支结构还有一种更简洁的表达方式，适合< 语句块1>和<语句块2>都只包含简单表达式的情 况，语法格式如下： <表达式1>  if  <条件>  else  <表达式2>\n",
    "\n",
    "#### 多分支结构: if-elif-else语句\n",
    "Python的if-elif-else描述多分支结构，语句格式 如下:\n",
    "\n",
    "if <条件1>:  \n",
    "\n",
    "&emsp;&emsp;<语句块1>\n",
    "\n",
    "elif <条件2>:\n",
    "\n",
    "&emsp;&emsp;<语句块2> \n",
    "\n",
    "&emsp;&emsp;... \n",
    "\n",
    "else:     \n",
    "\n",
    "&emsp;&emsp;<语句块N>\n",
    "\n",
    "多分支结构通常用于判断同一个条件或一类条件的 多个执行路径。要注意，Python会按照多分支结构 的代码顺序依次评估判断条件，寻找并执行第一个 结果为True条件对应的语句块，当前语句块执行后 跳过整个if-elif-else结构。 \n",
    "\n",
    "利用多分支结构编写代码时要注意多个逻辑条件的 先后关系。"
   ]
  },
  {
   "cell_type": "markdown",
   "metadata": {},
   "source": [
    "获取用户输入的一个百分制成绩，转换成五分制，给 出对应的A、B、C、D、E等级。 "
   ]
  },
  {
   "cell_type": "code",
   "execution_count": 11,
   "metadata": {},
   "outputs": [
    {
     "name": "stdout",
     "output_type": "stream",
     "text": [
      "请输出一个百分制成绩：88\n",
      "对应的五分制成绩是：D\n"
     ]
    }
   ],
   "source": [
    "score = eval(input(\"请输出一个百分制成绩：\")) \n",
    "if score >= 60.0: \n",
    "    grade = \"D\" \n",
    "elif score >= 70.0: \n",
    "    grade = \"C\"\n",
    "elif score >= 80.0: \n",
    "    grade = \"B\"\n",
    "elif score >= 90.0: \n",
    "    grade = \"A\" \n",
    "else: \n",
    "    grade = \"E\" \n",
    "print(\"对应的五分制成绩是：{}\".format(grade)) "
   ]
  },
  {
   "cell_type": "markdown",
   "metadata": {},
   "source": [
    "#### 判断条件及组合\n",
    "\n",
    "分支结构中的判断条件可以使用任何能够产生 True或False的语句或函数。形成判断条件最常 见的方式是采用关系操作符\n",
    "\n",
    "|操作符|操作符含义|\n",
    "|:-:|:-:|\n",
    "|<|小于|\n",
    "|<=|小于等于|\n",
    "|>=|大于等于|\n",
    "|>|大于|\n",
    "|==|等于|\n",
    "|!=|不等于|\n",
    "\n",
    "Python语言中，任何非零的数值、非空的数据类型都 等价于True，0或空类型等价于False，可以直接用作判 断条件。 \n",
    "\n",
    "Python语言使用保留字not、and和or对条件进行逻辑 运算或组着。\n",
    "\n",
    "保留字not表示单个条件的“否”关系，and表示多个 条件之间的“与”关系，保留字or表示多个条件之间 的“或”关系"
   ]
  },
  {
   "cell_type": "markdown",
   "metadata": {},
   "source": [
    "### 3 程序的循环结构\n",
    "#### 程序的循环结构\n",
    "Python语言的循环结构包括两种：遍历循环和 无限循环。\n",
    "\n",
    "遍历循环使用保留字for依次提取遍历结构各元 素进行处理； \n",
    "\n",
    "无限循环使用保留字while根据判断条件执行 程序。\n",
    "\n",
    "#### 遍历循环: for\n",
    "遍历循环可以理解为从遍历结构中逐一提取元素，放在循环变量中，对于每个所提取的元素执行一次语句 块。for语句的循环执行次数是根据遍历结构中元素个 数确定的。 \n",
    "\n",
    "for  <循环变量>  in  <遍历结构>:              \n",
    "\n",
    "&emsp;&emsp;<语句块> \n",
    "\n",
    "遍历结构可以是字符串、文件、range()函数或组合数 据类型等。\n",
    "\n",
    "对于字符串，可以逐一遍历字符串的每个字符，基本使用方式如下：\n",
    "\n",
    "for  <循环变量>  in  <字符串变量>:     \n",
    "\n",
    "&emsp;&emsp;<语句块> \n",
    "\n",
    "使用range()函数，可以指定语句块的循环次数，基本 使用方式如下：\n",
    "\n",
    "for  <循环变量>  in  range(<循环次数>):      \n",
    "\n",
    "&emsp;&emsp;<语句块> \n",
    "\n",
    "遍历循环还有一种扩展模式，使用方法如下： \n",
    "\n",
    "for  <循环变量>  in  <遍历结构>:   \n",
    "\n",
    "&emsp;&emsp;<语句块1>\n",
    "\n",
    "else:    \n",
    "\n",
    "&emsp;&emsp;<语句块2>\n",
    "\n",
    "当for循环正常执行之后，程序会继续执行else语句 中内容。else语句只在循环正常执行之后才执行并结 束，因此，可以在<语句块2>中放置判断循环执行情 况的语句。\n",
    "\n",
    "#### 无限循环: while\n",
    "Python通过保留字while实现无限循环 \n",
    "\n",
    "while  <条件>:             \n",
    "\n",
    "&emsp;&emsp;<语句块>\n",
    "\n",
    "当程序执行到while语句时，判断条件如果为True， 执行循环体语句，语句结束后返回再次判断while语 句的条件；当条件为False时，循环终止，执行与 while同级别缩进的后续语句。\n",
    "\n",
    "无限循环也有一种使用保留字else的扩展模式，使用方 法如下： \n",
    "\n",
    "while  <条件>:    \n",
    "\n",
    "&emsp;&emsp;<语句块1> \n",
    "\n",
    "else:    \n",
    "\n",
    "&emsp;&emsp;<语句块2> \n",
    "\n",
    "在这种扩展模式中，当while循环正常执行之后，程序会继续执行 else语句中内容。else语句只在循环正常执行后才执行，因此，可 以在语句块2中放置判断循环执行情况的语句。\n",
    "\n",
    "#### 循环控制: break和continue\n",
    "循环结构有两个辅助循环控制的保留字：break和 continue。break用来跳出最内层for或while循环，脱 离该循环后程序从循环后代码继续执行。"
   ]
  },
  {
   "cell_type": "code",
   "execution_count": 10,
   "metadata": {},
   "outputs": [
    {
     "name": "stdout",
     "output_type": "stream",
     "text": [
      "请输入一个名字(按Q退出): Daniel\n",
      "输入的名字是: Daniel\n",
      "请输入一个名字(按Q退出): Q\n",
      "程序退出\n"
     ]
    }
   ],
   "source": [
    " while True: \n",
    "        s = input(\"请输入一个名字(按Q退出): \") \n",
    "        if s == \"Q\":\n",
    "            break\n",
    "        print(\"输入的名字是:\", s)\n",
    "print(\"程序退出\")"
   ]
  },
  {
   "cell_type": "markdown",
   "metadata": {},
   "source": [
    "如果有2层或多层循环，break退出最内层循环。\n",
    "\n",
    "continue用来结束当前当次循环，即跳出循环体中下 面尚未执行的语句，但不跳出当前循环。\n"
   ]
  },
  {
   "cell_type": "code",
   "execution_count": 25,
   "metadata": {},
   "outputs": [
    {
     "name": "stdout",
     "output_type": "stream",
     "text": [
      "PTHON"
     ]
    }
   ],
   "source": [
    "for s in \"PYTHON\": \n",
    "    if s == \"Y\" or s == \"y\": \n",
    "        continue\n",
    "    print(s, end =\"\")"
   ]
  },
  {
   "cell_type": "markdown",
   "metadata": {},
   "source": [
    " continue语句和break语句的区别是：continue语句只 结束本次循环，不终止整个循环的执行，而break具备 结束循环的能力。"
   ]
  },
  {
   "cell_type": "markdown",
   "metadata": {},
   "source": [
    "### 4 程序的异常处理"
   ]
  },
  {
   "cell_type": "markdown",
   "metadata": {},
   "source": [
    "#### 程序的异常处理\n",
    "Python程序一般对输入有一定要求，但当实际输入不 满足程序要求时，可能会产生程序的运行错误。"
   ]
  },
  {
   "cell_type": "code",
   "execution_count": 12,
   "metadata": {},
   "outputs": [
    {
     "name": "stdout",
     "output_type": "stream",
     "text": [
      "请输入一个数字: Python\n"
     ]
    },
    {
     "ename": "NameError",
     "evalue": "name 'Python' is not defined",
     "output_type": "error",
     "traceback": [
      "\u001b[1;31m---------------------------------------------------------------------------\u001b[0m",
      "\u001b[1;31mNameError\u001b[0m                                 Traceback (most recent call last)",
      "\u001b[1;32m<ipython-input-12-2ffffd3f6123>\u001b[0m in \u001b[0;36m<module>\u001b[1;34m\u001b[0m\n\u001b[1;32m----> 1\u001b[1;33m \u001b[0mn\u001b[0m \u001b[1;33m=\u001b[0m \u001b[0meval\u001b[0m\u001b[1;33m(\u001b[0m\u001b[0minput\u001b[0m\u001b[1;33m(\u001b[0m\u001b[1;34m\"请输入一个数字: \"\u001b[0m\u001b[1;33m)\u001b[0m\u001b[1;33m)\u001b[0m\u001b[1;33m\u001b[0m\u001b[1;33m\u001b[0m\u001b[0m\n\u001b[0m",
      "\u001b[1;32m<string>\u001b[0m in \u001b[0;36m<module>\u001b[1;34m\u001b[0m\n",
      "\u001b[1;31mNameError\u001b[0m: name 'Python' is not defined"
     ]
    }
   ],
   "source": [
    "n = eval(input(\"请输入一个数字: \"))"
   ]
  },
  {
   "cell_type": "markdown",
   "metadata": {},
   "source": [
    "由于使用了eval()函数，如果用户输入不是一 个数字则可能报错。这类由于输入与预期不匹配造成的错误有很多种可能，不能逐一列出可能性进行判断。为了保证程序运行的稳定性，这类运行错误应该被程序捕获并合理控制。"
   ]
  },
  {
   "cell_type": "markdown",
   "metadata": {},
   "source": [
    " Python语言使用保留字try和except进行异常处理，基 本的语法格式如下：\n",
    " \n",
    " try: \n",
    " \n",
    " &emsp;&emsp;<语句块1> \n",
    " \n",
    " except: \n",
    " \n",
    "&emsp;&emsp; <语句块2>\n",
    "\n",
    "语句块1是正常执行的程序内容，当执行这个语句块发 生异常时，则执行except保留字后面的语句块2。"
   ]
  },
  {
   "cell_type": "code",
   "execution_count": 15,
   "metadata": {},
   "outputs": [
    {
     "name": "stdout",
     "output_type": "stream",
     "text": [
      "请输入一个数字: Python\n",
      "输入错误，请输入一个数字!\n"
     ]
    }
   ],
   "source": [
    "try:\n",
    "    n = eval(input(\"请输入一个数字: \"))\n",
    "    print(\"输入数字的3次方值为:\", n**3)\n",
    "except:\n",
    "    print(\"输入错误，请输入一个数字!\")"
   ]
  },
  {
   "cell_type": "markdown",
   "metadata": {},
   "source": [
    "除了输入之外，异常处理还可以处理程序执行中的运 行异常。"
   ]
  },
  {
   "cell_type": "code",
   "execution_count": 17,
   "metadata": {},
   "outputs": [
    {
     "name": "stdout",
     "output_type": "stream",
     "text": [
      "某种原因，出错了！\n"
     ]
    }
   ],
   "source": [
    "try: \n",
    "    for i in range(5): \n",
    "        print(10/i, end=\" \")\n",
    "except: \n",
    "    print(\"某种原因，出错了！\")"
   ]
  },
  {
   "cell_type": "markdown",
   "metadata": {},
   "source": [
    "### 5 实例解析：猜数字游戏\n",
    "#### 实例解析：猜数字游戏\n",
    "编写一个“猜数字游戏”的程序，在1到1000 之间随机产生一个数，然后请用户循环猜测这个数字，对于每个答案只回答“猜大了”或“猜小了”，直到猜测准确为止，输出用户的猜测次数。\n",
    "\n",
    "为了产生随机数，需要使用Python语言的随机 数标准库random\n",
    "\n",
    "根据程序需求，需要考虑不断地让用户循环输入猜测值，并根据猜测值和目标值之间的比较决定程序逻辑。\n"
   ]
  },
  {
   "cell_type": "code",
   "execution_count": 24,
   "metadata": {},
   "outputs": [
    {
     "name": "stdout",
     "output_type": "stream",
     "text": [
      "请输入一个猜测的整数(1至1000)：20\n",
      "猜小了\n",
      "请输入一个猜测的整数(1至1000)：50\n",
      "猜小了\n",
      "请输入一个猜测的整数(1至1000)：100\n",
      "猜小了\n",
      "请输入一个猜测的整数(1至1000)：500\n",
      "猜大了\n",
      "请输入一个猜测的整数(1至1000)：450\n",
      "猜大了\n",
      "请输入一个猜测的整数(1至1000)：460\n",
      "猜大了\n",
      "请输入一个猜测的整数(1至1000)：350\n",
      "猜小了\n",
      "请输入一个猜测的整数(1至1000)：346\n",
      "猜小了\n",
      "请输入一个猜测的整数(1至1000)：360\n",
      "猜小了\n",
      "请输入一个猜测的整数(1至1000)：400\n",
      "猜小了\n",
      "请输入一个猜测的整数(1至1000)：420\n",
      "猜小了\n",
      "请输入一个猜测的整数(1至1000)：450\n",
      "猜大了\n",
      "请输入一个猜测的整数(1至1000)：430\n",
      "猜小了\n",
      "请输入一个猜测的整数(1至1000)：440\n",
      "猜大了\n",
      "请输入一个猜测的整数(1至1000)：431\n",
      "猜小了\n",
      "请输入一个猜测的整数(1至1000)：432\n",
      "猜小了\n",
      "请输入一个猜测的整数(1至1000)：433\n",
      "猜小了\n",
      "请输入一个猜测的整数(1至1000)：434\n",
      "猜对了\n",
      "此轮的猜测次数是: 18\n"
     ]
    }
   ],
   "source": [
    "import random \n",
    "target = random.randint(1,1000)\n",
    "count = 0 \n",
    "while True:\n",
    "    guess = eval(input('请输入一个猜测的整数(1至1000)：'))\n",
    "    count = count + 1\n",
    "    if guess > target:\n",
    "        print('猜大了')\n",
    "    elif guess < target:\n",
    "        print('猜小了')\n",
    "    else:\n",
    "        print('猜对了') \n",
    "        break\n",
    "print(\"此轮的猜测次数是:\", count)"
   ]
  }
 ],
 "metadata": {
  "kernelspec": {
   "display_name": "Python 3",
   "language": "python",
   "name": "python3"
  },
  "language_info": {
   "codemirror_mode": {
    "name": "ipython",
    "version": 3
   },
   "file_extension": ".py",
   "mimetype": "text/x-python",
   "name": "python",
   "nbconvert_exporter": "python",
   "pygments_lexer": "ipython3",
   "version": "3.7.3"
  }
 },
 "nbformat": 4,
 "nbformat_minor": 4
}
