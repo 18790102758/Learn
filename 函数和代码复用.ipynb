{
 "cells": [
  {
   "cell_type": "markdown",
   "metadata": {},
   "source": [
    "## 函数和代码复用"
   ]
  },
  {
   "cell_type": "markdown",
   "metadata": {},
   "source": [
    "### 1 函数的基本使用\n",
    "#### 函数的定义\n",
    "\n",
    "函数是一段具有特定功能的、可重用的语句组，通过函数名来表示和调用。经过定义，一组语句等价于一个函数，在需要使用这组语句的地方，直接调用函数名称即可。\n",
    "\n",
    "因此，函数的使用包括两部分：函数的定义和函数\n",
    "的使用。 \n",
    "\n",
    "函数是一种功能抽象。\n",
    "\n",
    "Python定义一个函数使用def保留字，语法形式 如下： \n",
    "\n",
    "def <函数名>(<参数列表>):  \n",
    "\n",
    "&emsp; &emsp;<函数体>\n",
    "\n",
    "return <返回值列表>\n",
    "\n",
    "函数名可以是任何有效的Python标识符。\n",
    "\n",
    "参数列表是调用该函数时传递给它的值，可以有零个、一个或多个，当传递多个参数时各参数由\n",
    "逗号分隔，当没有参数时也要保留圆括号。 \n",
    "\n",
    "函数体是函数每次被调用时执行的代码，由一行或多行语句组成。\n",
    "\n",
    "定义后的函数不能直接运行，需要经过“调用”才能运行。调用函数的基本方法如下"
   ]
  },
  {
   "cell_type": "code",
   "execution_count": 7,
   "metadata": {},
   "outputs": [
    {
     "data": {
      "text/plain": [
       "3628800"
      ]
     },
     "execution_count": 7,
     "metadata": {},
     "output_type": "execute_result"
    }
   ],
   "source": [
    "def fact(n):\n",
    "    s = 1\n",
    "    for i in range(1, n+1):\n",
    "        s *= i\n",
    "    return s\n",
    "fact(10)"
   ]
  },
  {
   "cell_type": "markdown",
   "metadata": {},
   "source": [
    "#### 函数的使用\n",
    "具体来说，函数的使用一共分为四个步骤： \n",
    "\n",
    "函数定义 、函数调用 、函数执行 、 函数返回\n",
    "\n",
    "- 函数调用\n",
    "\n",
    "使用def保留字将一段代码定义为函数，需要 确定函数的名字、参数的名字、参数的个数，使用参数名称作为形式参数（占位符）编写函数内部的功能代码。\n",
    "\n",
    "- 函数调用\n",
    "\n",
    "通过函数名调用函数功能，对函数的各个参数赋予实际值，实际值可以是实际数据，也可以是在调用函数前已经定义过的变量。\n",
    "\n",
    "- 函数执行 \n",
    "\n",
    "函数被调用后，使用实际参数（赋予形式参数的实际值）参与函数内部代码的运行，如果有结果则进行输出。\n",
    "\n",
    "- 函数返回\n",
    "\n",
    "函数执行结束后，根据return保留字的指示决 定是否返回结果，如果返回结果，则结果将被放置到函数被调用的位置，函数使用完毕，程序继续运行。\n"
   ]
  },
  {
   "cell_type": "markdown",
   "metadata": {},
   "source": [
    "### 2 函数的参数传递\n",
    "#### 可选参数传递\n",
    "函数的参数在定义时可以指定默认值，当函数被调用时，如果没有传入对应的参数值，则使用函数定义时的默认值替代，函数定义时的语法形式如下： \n",
    "\n",
    "def  <函数名>(<非可选参数列表>, <可选参数> = <默认值>): \n",
    "\n",
    "&emsp;&emsp;<函数体> \n",
    "\n",
    "&emsp;&emsp;return <返回值列表>\n",
    "\n",
    "需要注意，可选参数一般都放置在非可选参数的后面，即定义函数时，先给出所有非可选参数，然后再分别列出每个可选参数及对应的默认值。\n",
    "\n",
    "Python语言同时支持函数按照参数名称方式传 递参数，语法形式如下： \n",
    "\n",
    "<函数名>(<参数名> = <实际值>) \n",
    "\n",
    "#### 函数的返回值\n",
    "\n",
    "return语句用来结束函数并将程序返回到函数被 调用的位置继续执行。 \n",
    "\n",
    "return语句可以出现在函数中的任何部分，同时 可以将0个、1个或多个函数运算的结果返回给函 数被调用处的变量。\n",
    "\n",
    "函数可以没有return，此时函数并不返回值。当 函数使用return返回多个值，可以使用一个变量 或多个变量保存结果。"
   ]
  },
  {
   "cell_type": "markdown",
   "metadata": {},
   "source": [
    "### 3 变量的作用域\n",
    "#### 函数的返回值\n",
    "\n",
    "根据程序中变量所在的位置和作用范围，变量分为局部变量和全局变量。 \n",
    "\n",
    "局部变量仅在函数内部，且作用域也在函数内部，全局变量的作用域跨越多个函数。\n",
    "\n",
    "局部变量指在函数内部使用的变量，仅在函数内部有效，当函数退出时变量将不再存在。"
   ]
  },
  {
   "cell_type": "code",
   "execution_count": 9,
   "metadata": {},
   "outputs": [
    {
     "name": "stdout",
     "output_type": "stream",
     "text": [
      "198\n"
     ]
    },
    {
     "ename": "NameError",
     "evalue": "name 'z' is not defined",
     "output_type": "error",
     "traceback": [
      "\u001b[1;31m---------------------------------------------------------------------------\u001b[0m",
      "\u001b[1;31mNameError\u001b[0m                                 Traceback (most recent call last)",
      "\u001b[1;32m<ipython-input-9-ea4f00ab52f0>\u001b[0m in \u001b[0;36m<module>\u001b[1;34m\u001b[0m\n\u001b[0;32m      4\u001b[0m \u001b[0ms\u001b[0m \u001b[1;33m=\u001b[0m \u001b[0mmultiply\u001b[0m\u001b[1;33m(\u001b[0m\u001b[1;36m99\u001b[0m\u001b[1;33m,\u001b[0m \u001b[1;36m2\u001b[0m\u001b[1;33m)\u001b[0m\u001b[1;33m\u001b[0m\u001b[1;33m\u001b[0m\u001b[0m\n\u001b[0;32m      5\u001b[0m \u001b[0mprint\u001b[0m\u001b[1;33m(\u001b[0m\u001b[0ms\u001b[0m\u001b[1;33m)\u001b[0m\u001b[1;33m\u001b[0m\u001b[1;33m\u001b[0m\u001b[0m\n\u001b[1;32m----> 6\u001b[1;33m \u001b[0mprint\u001b[0m\u001b[1;33m(\u001b[0m\u001b[0mz\u001b[0m\u001b[1;33m)\u001b[0m\u001b[1;33m\u001b[0m\u001b[1;33m\u001b[0m\u001b[0m\n\u001b[0m",
      "\u001b[1;31mNameError\u001b[0m: name 'z' is not defined"
     ]
    }
   ],
   "source": [
    "def multiply(x, y = 10):\n",
    "    z = x * y\n",
    "    return z\n",
    "s = multiply(99, 2)\n",
    "print(s)\n",
    "print(z)"
   ]
  },
  {
   "cell_type": "markdown",
   "metadata": {},
   "source": [
    "变量z是函数multiple()内部使用的变量，当函数调用后， 变量z将不存在。"
   ]
  },
  {
   "cell_type": "markdown",
   "metadata": {},
   "source": [
    "#### 全局变量\n",
    "全局变量指在函数之外定义的变量，在程序执行全过程有效。全部变量在函数内部使用时，需要 提前使用保留字global声明，语法形式如下：\n",
    "\n",
    "global <全局变量>"
   ]
  },
  {
   "cell_type": "code",
   "execution_count": 10,
   "metadata": {},
   "outputs": [
    {
     "name": "stdout",
     "output_type": "stream",
     "text": [
      "396\n"
     ]
    }
   ],
   "source": [
    "n = 2\n",
    "def multiply(x, y = 10):\n",
    "    global n\n",
    "    return x * y * n\n",
    "s = multiply(99, 2)\n",
    "print(s)"
   ]
  },
  {
   "cell_type": "markdown",
   "metadata": {},
   "source": [
    "上例中，变量n是全局变量，在函数multiply() 中使用时需要在函数内部使用global声明，定义 后即可使用。\n",
    "\n",
    "如果未使用保留字global声明，即使名称相同， 也不是全局变量。 "
   ]
  },
  {
   "cell_type": "code",
   "execution_count": 11,
   "metadata": {},
   "outputs": [
    {
     "name": "stdout",
     "output_type": "stream",
     "text": [
      "198\n",
      "2\n"
     ]
    }
   ],
   "source": [
    "n = 2\n",
    "def multiply(x, y = 10):\n",
    "    n = x * y\n",
    "    return n\n",
    "s = multiply(99, 2)\n",
    "print(s)\n",
    "print(n)"
   ]
  },
  {
   "cell_type": "markdown",
   "metadata": {},
   "source": [
    "### 4 代码复用\n",
    "\n",
    "####  代码复用\n",
    "函数是程序的一种基本抽象方式，它将一系列代码组织起来通过命名供其他程序使用。\n",
    "\n",
    "函数封装的直接好处是代码复用，任何其他代码只要输入参数即可调用函数，从而避免相同功能代码在被调用处重复编写。代码复用产生了另一个好处，当更新函数功能时，所有被调用处的功能都被更新。\n",
    "\n",
    "模块化设计指通过函数的封装功能将程序划分成主程序、子程序和子程序间关系的表达。模块化设计是使用函数设计程序的思考方法，以功能块为基本单位，一般有两个基本要求： \n",
    "\n",
    "- 紧耦合：尽可能合理划分功能块，功能块内部耦合紧密；\n",
    "- 松耦合：模块间关系尽可能简单，功能块之间耦合 度低。\n",
    "\n",
    "耦合性指程序结构中各模块之间相互关联的程度，它取决于各模块间接口的复杂程度和调用方式。 \n",
    "\n",
    "紧耦合指模块或系统间关系紧密，存在较多或复杂的相互调用。紧耦合的缺点在于更新一个模块\n",
    "可能导致其它模块变化，复用较困难。\n",
    "\n",
    "松耦合一般基于消息或协议实现，系统间交互简单。\n",
    "\n",
    "使用函数只是模块化设计的必要非充分条件，根据计算需求合理划分函数十分重要。一般来说，完成特定功能或被经常复用的一组语句应该采用函数来封装，并尽可能减少函数间参数和返回值的数量。"
   ]
  },
  {
   "cell_type": "markdown",
   "metadata": {},
   "source": [
    "### 5 实例解析：软文的诗词风\n",
    "#### 软文的诗词风\n",
    "\n",
    "软文的诗词风将原有文章根据标点符号重新切分成短句并居中排版，对小屏幕阅读十分有利。使用程序将普通文章变成软文的诗词风十分有趣\n"
   ]
  },
  {
   "cell_type": "code",
   "execution_count": 16,
   "metadata": {},
   "outputs": [
    {
     "name": "stdout",
     "output_type": "stream",
     "text": [
      "　　　　　　　　　　　　　　 　　　　　　　　　　　　　　　\n",
      "　　　　　　　　　　　人生得意须尽欢　　　　　　　　　　　　\n",
      "　　　　　　　　　　　莫使金樽空对月　　　　　　　　　　　　\n",
      "　　　　　　　　　　　　　　 　　　　　　　　　　　　　　　\n",
      "　　　　　　　　　　　天生我材必有用　　　　　　　　　　　　\n",
      "　　　　　　　　　　　千金散尽还复来　　　　　　　　　　　　\n",
      "　　　　　　　　　　　　　　 　　　　　　　　　　　　　　　\n",
      "　　　　　　　　　　　　　　　　　　　　　　　　　　　　　　\n"
     ]
    }
   ],
   "source": [
    "txt = ''' \n",
    "人生得意须尽欢，莫使金樽空对月。 \n",
    "天生我材必有用，千金散尽还复来。 \n",
    "''' \n",
    "linewidth = 30# 预定的输出宽度   \n",
    "\n",
    "def lineSplit(line): \n",
    "    plist = [',', '!', '?', '，', '。', '！', '？']\n",
    "    for p in plist:\n",
    "        line = line.replace(p, '\\n')\n",
    "    return line.split('\\n')\n",
    "    \n",
    "def linePrint(line):\n",
    "     global linewidth\n",
    "     print(line.center(linewidth, chr(12288)))\n",
    "    \n",
    "newlines = lineSplit(txt)\n",
    "for newline in newlines:\n",
    "    linePrint(newline)"
   ]
  },
  {
   "cell_type": "code",
   "execution_count": 19,
   "metadata": {},
   "outputs": [
    {
     "name": "stdout",
     "output_type": "stream",
     "text": [
      "　　　　　　　　　　　　　　 　　　　　　　　　　　　　　　\n",
      "　　　　　　　　　　　三国演义 上卷 　　　　　　　　　　　\n",
      "　　　　　　　　　　　　罗贯中   　　　　　　　　　　　　\n",
      "　　　　　　　　　　　滚滚长江东逝水　　　　　　　　　　　　\n",
      "　　　　　　　　　　　　浪花淘尽英雄　　　　　　　　　　　　\n",
      "　　　　　　　　　　　　　　　　　　　　　　　　　　　　　　\n",
      "　　　　　　　　　　　是非成败转头空　　　　　　　　　　　　\n",
      "　　　　　　　　　　　　青山依旧在　　　　　　　　　　　　　\n",
      "　　　　　　　　　　　　几度夕阳红　　　　　　　　　　　　　\n",
      "　　　　　　　　　　　　　　　　　　　　　　　　　　　　　　\n",
      "　　　　　　　　　　　白发渔樵江渚上　　　　　　　　　　　　\n",
      "　　　　　　　　　　　　惯看秋月春风　　　　　　　　　　　　\n",
      "　　　　　　　　　　　　　　　　　　　　　　　　　　　　　　\n",
      "　　　　　　　　　　　一壶浊酒喜相逢　　　　　　　　　　　　\n",
      "　　　　　　　　　　　　　　　　　　　　　　　　　　　　　　\n",
      "　　　　　　　　　　　　古今多少事　　　　　　　　　　　　　\n",
      "　　　　　　　　　　　　都付笑谈中　　　　　　　　　　　　　\n",
      "　　　　　　　　　　　　　　　　　　　　　　　　　　　　　　\n",
      "　　　　　　　　　　--调寄《临江仙》 　　　　　　　　　　\n",
      "　　　第一回  宴桃园豪杰三结义  斩黄巾英雄首立功 　　　\n",
      "　　　　　　　　　　　　话说天下大势　　　　　　　　　　　　\n",
      "　　　　　　　　　　　　　分久必合　　　　　　　　　　　　　\n",
      "　　　　　　　　　　　　　合久必分　　　　　　　　　　　　　\n",
      "　　　　　　　　　　　　周末七国分争　　　　　　　　　　　　\n",
      "　　　　　　　　　　　　　并入于秦　　　　　　　　　　　　　\n",
      "　　　　　　　　　　　　及秦灭之后　　　　　　　　　　　　　\n",
      "　　　　　　　　　　　　 楚、汉分争　　　　　　　　　　　　\n",
      "　　　　　　　　　　　　　　　　　　　　　　　　　　　　　　\n",
      "　　　　　　　　　　　　又并入于汉　　　　　　　　　　　　　\n",
      "　　　　　　　　　汉朝自高祖斩白蛇而起义　　　　　　　　　　\n",
      "　　　　　　　　　　　　　一统天下　　　　　　　　　　　　　\n",
      "　　　　　　　　　　　　后来光武中兴　　　　　　　　　　　　\n",
      "　　　　　　　　　　　　 传至献帝　　　　　　　　　　　　　\n",
      "　　　　　　　　　　　　遂分为三国　　　　　　　　　　　　　\n",
      "　　　　　　　　　　　　　　 　　　　　　　　　　　　　　　\n",
      "　　　　　　　　　　　　　　　　　　　　　　　　　　　　　　\n"
     ]
    }
   ],
   "source": [
    "txt = ''' \n",
    "三国演义 上卷 \n",
    "罗贯中   \n",
    "滚滚长江东逝水，浪花淘尽英雄。\n",
    "是非成败转头空。青山依旧在，几度夕阳红。\n",
    "白发渔樵江渚上，惯看秋月春风。\n",
    "一壶浊酒喜相逢。\n",
    "古今多少事，都付笑谈中。\n",
    "--调寄《临江仙》 \n",
    "第一回  宴桃园豪杰三结义  斩黄巾英雄首立功 \n",
    "话说天下大势，分久必合，合久必分。周末七国分争，并入于秦。及秦灭之后， 楚、汉分争，\n",
    "又并入于汉。汉朝自高祖斩白蛇而起义，一统天下，后来光武中兴， 传至献帝，遂分为三国。 \n",
    "'''\n",
    "\n",
    "newlines = lineSplit(txt)\n",
    "for newline in newlines:\n",
    "    linePrint(newline)"
   ]
  }
 ],
 "metadata": {
  "kernelspec": {
   "display_name": "Python 3",
   "language": "python",
   "name": "python3"
  },
  "language_info": {
   "codemirror_mode": {
    "name": "ipython",
    "version": 3
   },
   "file_extension": ".py",
   "mimetype": "text/x-python",
   "name": "python",
   "nbconvert_exporter": "python",
   "pygments_lexer": "ipython3",
   "version": "3.7.3"
  }
 },
 "nbformat": 4,
 "nbformat_minor": 4
}
