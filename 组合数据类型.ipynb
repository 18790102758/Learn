{
 "cells": [
  {
   "cell_type": "markdown",
   "metadata": {},
   "source": [
    "## 组合数据类型"
   ]
  },
  {
   "cell_type": "markdown",
   "metadata": {},
   "source": [
    "### 1 组合数据类型的基本概念\n",
    "\n",
    "#### 组合数据类型\n",
    "\n",
    "Python语言中最常用的组合数据类型有3大类， 分别是集合类型、序列类型和映射类型。\n",
    "\n",
    "集合类型是一个具体的数据类型名称，而序列类型和映射类型是一类数据类型的总称。\n",
    "\n",
    "集合类型是一个元素集合，元素之间无序，相同元素在集合中唯一存在。\n",
    "\n",
    "序列类型是一个元素向量，元素之间存在先后关系，通过序号访问，元素之间不排他。序列类型的典型代表是字符串类型和列表类型。\n",
    "\n",
    "映射类型是“键-值”数据项的组合，每个元素是一个键 值对，表示为(key, value)。映射类型的典型代表是字典 类型。\n",
    "\n",
    "#### 集合类型概述\n",
    "\n",
    "Python语言中的集合类型与数学中的集合概念 一致，即包含0个或多个数据项的无序组合。 \n",
    "\n",
    "集合是无序组合，用大括号（{}）表示，它没有 索引和位置的概念，集合中元素可以动态增加或\n",
    "删除。\n",
    "\n",
    "集合中元素不可重复，元素类型只能是固定数据类型，例如：整数、浮点数、字符串、元组等，列表、字典和集合类型本身都是可变数据类型，不能作为集合的元素出现。\n",
    "\n",
    "需要注意，由于集合元素是无序的，集合的打印效果与定义顺序可以不一致。由于集合元素独一无二，使用集合类型能够过滤掉重复元素。\n",
    "\n",
    "集合类型有4个操作符，交集（&）、并集（|）、差集 （-）、补集（^），操作逻辑与数学定义相同。\n",
    "\n",
    "|操作符的运算| 描述 |\n",
    "|:--:|:--:|\n",
    "|S–T|返回一个新集合，包括在集合S中但不在集合T中的元素|\n",
    "|S & T |返回一个新集合，包括同时在集合S和T中的元素|\n",
    "|S^T| 返回一个新集合，包括集合S和T中非共同元素|\n",
    "|S|T 返回一个新集合，包括集合S和T中所有元素|"
   ]
  },
  {
   "cell_type": "code",
   "execution_count": 3,
   "metadata": {},
   "outputs": [
    {
     "name": "stdout",
     "output_type": "stream",
     "text": [
      "{78.9}\n",
      "{1010, '1010'}\n",
      "{1010, '1010'}\n",
      "{12.3, 78.9}\n",
      "{12.3, 78.9}\n",
      "{1010, '1010', 12.3, 78.9}\n",
      "{1010, '1010', 12.3, 78.9}\n"
     ]
    }
   ],
   "source": [
    "S = {1010, \"1010\", 78.9}\n",
    "T = {1010, \"1010\", 12.3, 1010, 1010} \n",
    "print(S - T)\n",
    "print(S & T)\n",
    "print(T & S)\n",
    "print(S ^ T)\n",
    "print(T ^ S)\n",
    "print(S | T)\n",
    "print(T | S)"
   ]
  },
  {
   "cell_type": "markdown",
   "metadata": {},
   "source": [
    "集合类型有一些常用的操作函数或方法\n",
    "\n",
    "|函数或方法|描述|\n",
    "|:--:|:--:|\n",
    "|S.add(x)| 如果数据项x不在集合S中，将x增加到s|\n",
    "|S.remove(x)| 如果x在集合S中，移除该元素；不在产生 KeyError异常|\n",
    "|S.clear()| 移除S中所有数据项|\n",
    "|len(S)| 返回集合S元素个数|\n",
    "|x in S| 如果x是S的元素，返回True，否则返回False|\n",
    "|x not in S |如果x不是S的元素，返回True，否则返回False|\n",
    "\n",
    "集合类型主要用于元素去重，适合于任何组合数据类型。\n"
   ]
  },
  {
   "cell_type": "code",
   "execution_count": 4,
   "metadata": {},
   "outputs": [
    {
     "name": "stdout",
     "output_type": "stream",
     "text": [
      "{'知', '不', '为', '之'}\n"
     ]
    }
   ],
   "source": [
    "S = set('知之为知之不知为不知')\n",
    "print(S)"
   ]
  },
  {
   "cell_type": "markdown",
   "metadata": {},
   "source": [
    "#### 序列类型概述\n",
    "序列类型是一维元素向量，元素之间存在先后关系，通过序号访问。\n",
    "\n",
    "由于元素之间存在顺序关系，所以序列中可以存 在相同数值但位置不同的元素。Python语言中 很多数据类型都是序列类型，其中比较重要的是：字符串类型和列表类型，此外还包括元组类型。\n",
    "\n",
    "字符串类型可以看成是单一字符的有序组合，属于序列类型。列表则是一个可以使用多种类型元素的序列类型。序列类型使用相同的索引体系，即正向递增序号和反向递减序号。\n",
    "\n",
    "序列类型有一些通用的操作符和函数\n",
    "\n",
    "|操作符| 描述 |\n",
    "|:--:|:--:|\n",
    "|x in s |如果x是s的元素，返回True，否则返回False|\n",
    "|x not in s |如果x不是s的元素，返回True，否则返回False|\n",
    "|s + t| 连接s和t|\n",
    "|s * n 或 n * s |将序列s复制n次 |\n",
    "|s[i] |索引，返回序列的第i个元素 |\n",
    "|s[i: j] |切片，返回包含序列s第i到j个元素的子序列（不包含第j个元素）、\n",
    "|s[i: j: k] |步骤切片，返回包含序列s第i到j个元素以j为步数的子序列 |\n",
    "|len(s)| 序列s的元素个数（长度） |\n",
    "|min(s)| 序列s中的最小元素|\n",
    "|max(s)| 序列s中的最大元素|\n",
    "|s.index(x)|序列s中第一次出现元素x的位置|\n",
    "|s.count(x)| 序列s中出现x的总次数|"
   ]
  },
  {
   "cell_type": "markdown",
   "metadata": {},
   "source": [
    "#### 映射类型概述\n",
    "映射类型是“键-值”数据项的组合，每个元素是一个键 值对，即元素是(key, value)，元素之间是无序的。键值 对是一种二元关系，源于属性和值的映射关系\n",
    "\n",
    "映射类型是序列类型的一种扩展。在序列类型中，采用 从0开始的正向递增序号进行具体元素值的索引。而映射 类型则由用户来定义序号，即键，用其去索引具体的值。\n",
    "\n",
    "键（key）表示一个属性，也可以理解为一个类别或项目， 值（value）是属性的内容，键值对刻画了一个属性和它 的值。键值对将映射关系结构化，用于存储和表达。\n"
   ]
  },
  {
   "cell_type": "markdown",
   "metadata": {},
   "source": [
    "### 2 列表类型\n",
    "#### 列表的定义\n",
    "列表是包含0个或多个元组组成的有序序列，属 于序列类型。列表可以元素进行增加、删除、替\n",
    "换、查找等操作。列表没有长度限制，元素类型可以不同，不需要预定义长度。 \n",
    "\n",
    "列表类型用中括号（[]）表示，也可以通过list(x) 函数将集合或字符串类型转换成列表类型。\n"
   ]
  },
  {
   "cell_type": "code",
   "execution_count": 5,
   "metadata": {},
   "outputs": [
    {
     "name": "stdout",
     "output_type": "stream",
     "text": [
      "[1010, '1010', [1010, '1010'], 1010]\n"
     ]
    },
    {
     "data": {
      "text/plain": [
       "['列', '表', '可', '以', '由', '字', '符', '串', '生', '成']"
      ]
     },
     "execution_count": 5,
     "metadata": {},
     "output_type": "execute_result"
    }
   ],
   "source": [
    "ls = [1010, \"1010\", [1010, \"1010\"], 1010]\n",
    "print(ls)\n",
    "list(\"列表可以由字符串生成\")"
   ]
  },
  {
   "cell_type": "markdown",
   "metadata": {},
   "source": [
    "列表属于序列类型，所以列表类型支持序列类型对应的操作\n",
    "\n",
    "索引是列表的基本操作，用于获得列表的一个元素。使用中括号作为索引操作符。\n",
    "\n",
    "#### 列表的索引\n",
    "\n",
    "可以使用遍历循环对列表类型的元素进行遍历操作，基本使用方式如下： \n",
    "\n",
    "for  <循环变量>  in  <列表变量>:   \n",
    "&emsp;&emsp;<语句块> \n",
    "\n",
    "#### 列表的切片\n",
    "切片是列表的基本操作，用于获得列表的一个片段，即获得一个或多个元素。切片后的结果也是\n",
    "列表类型。切片有两种使用方式： \n",
    "\n",
    "<列表或列表变量>[N: M]    &emsp;或&emsp;    <列表或列表变量>[N: M: K]\n",
    "\n",
    "切片获取列表类型从N到M（不包含M）的元素组成新 的列表。当K存在时，切片获取列表类型从N到M（不包 含M）以K为步长所对应元素组成的列表。"
   ]
  },
  {
   "cell_type": "markdown",
   "metadata": {},
   "source": [
    "### 3 列表类型的操作\n",
    "\n",
    "#### 列表的操作函数\n",
    "\n",
    "列表类型继承序列类型特点，有一些通用的操作函数\n",
    "\n",
    "|操作函数 |描述 |\n",
    "|:--:|:--:|\n",
    "|len(ls)|列表ls的元素个数（长度）|\n",
    "|min(ls) |列表ls中的最小元素 |\n",
    "|max(ls)| 列表ls中的最大元素 |\n",
    "|list(x)| 将x转变成列表类型 |\n",
    "\n",
    "min(ls)和max(ls)分别返回一个列表的最小或最大元素， 使用这两个函数的前提是列表中各元素类型可以进行比较。\n",
    "\n",
    "list(x)将变量x转变成列表类型，其中x可以是字符串类型， 也可以是字典类型。\n",
    "\n",
    "#### 列表的操作方法\n",
    "\n",
    "列表类型存在一些操作方法，使用语法形式是： <列表变量>.<方法名称>(<方法参数>)\n",
    "\n",
    "|方法 |描述 |\n",
    "|:--:|:--:|\n",
    "|ls.append(x) |在列表ls最后增加一个元素x|\n",
    "|ls.insert(i, x) |在列表ls第i位置增加元素x |\n",
    "|ls.clear() |删除ls中所有元素 |\n",
    "|ls.pop(i) |将列表ls中第i项元素取出并删除该元素|\n",
    "|ls.remove(x)| 将列表中出现的第一个元素x删除|\n",
    "|ls.reverse()| 列表ls中元素反转|\n",
    "|ls.copy()| 生成一个新列表，复制ls中所有元素|\n"
   ]
  },
  {
   "cell_type": "markdown",
   "metadata": {},
   "source": [
    "ls.append(x)在列表ls最后增加一个元素x。"
   ]
  },
  {
   "cell_type": "code",
   "execution_count": 7,
   "metadata": {},
   "outputs": [
    {
     "name": "stdout",
     "output_type": "stream",
     "text": [
      "['1010', '10.10', 'python', 1010]\n",
      "['1010', '10.10', 'python', 1010, [1010, 4112]]\n"
     ]
    }
   ],
   "source": [
    "lt = [\"1010\", \"10.10\", \"python\"]\n",
    "lt.append(1010)\n",
    "print(lt)\n",
    "lt.append([1010, 0x1010])\n",
    "print(lt)"
   ]
  },
  {
   "cell_type": "markdown",
   "metadata": {},
   "source": [
    "ls.append(x)仅用于在列表中增加一个元素，如 果希望增加多个元素，可以使用加号，将两个列\n",
    "表合并。\n"
   ]
  },
  {
   "cell_type": "markdown",
   "metadata": {},
   "source": [
    "ls.insert(i, x)在列表ls中序号i位置上增加元素x，序号i之 后的元素序号依次增加。\n"
   ]
  },
  {
   "cell_type": "code",
   "execution_count": 8,
   "metadata": {},
   "outputs": [
    {
     "name": "stdout",
     "output_type": "stream",
     "text": [
      "['1010', 1010, '10.10', 'python']\n"
     ]
    }
   ],
   "source": [
    "lt = [\"1010\", \"10.10\", \"python\"]\n",
    "lt.insert(1, 1010)\n",
    "print(lt)"
   ]
  },
  {
   "cell_type": "markdown",
   "metadata": {},
   "source": [
    "ls.clear()将列表ls的所有元素删除，清空列表。\n"
   ]
  },
  {
   "cell_type": "code",
   "execution_count": 9,
   "metadata": {},
   "outputs": [
    {
     "name": "stdout",
     "output_type": "stream",
     "text": [
      "[]\n"
     ]
    }
   ],
   "source": [
    "lt.clear()\n",
    "print(lt)"
   ]
  },
  {
   "cell_type": "markdown",
   "metadata": {},
   "source": [
    " ls.pop(i)将返回列表ls中第i位元素，并将该元素从列表 中删除。"
   ]
  },
  {
   "cell_type": "code",
   "execution_count": 10,
   "metadata": {},
   "outputs": [
    {
     "name": "stdout",
     "output_type": "stream",
     "text": [
      "10.10\n",
      "['1010', 'Python']\n"
     ]
    }
   ],
   "source": [
    "lt = [\"1010\", \"10.10\", \"Python\"]\n",
    "print(lt.pop(1))\n",
    "print(lt)"
   ]
  },
  {
   "cell_type": "markdown",
   "metadata": {},
   "source": [
    "ls.remove(x)将删除列表ls中第一个出现的x元素。\n"
   ]
  },
  {
   "cell_type": "code",
   "execution_count": 11,
   "metadata": {},
   "outputs": [
    {
     "name": "stdout",
     "output_type": "stream",
     "text": [
      "['1010', 'Python']\n"
     ]
    }
   ],
   "source": [
    "lt = [\"1010\", \"10.10\", \"Python\"]\n",
    "lt.remove(\"10.10\") \n",
    "print(lt) "
   ]
  },
  {
   "cell_type": "markdown",
   "metadata": {},
   "source": [
    "除了上述方法，还可以使用Python保留字del对列表元素 或片段进行删除，使用方法如下：\n",
    "\n",
    "del  <列表变量>[<索引序号>]   &emsp;或 &emsp;del  <列表变量>[<索引起始>: <索引结束>] "
   ]
  },
  {
   "cell_type": "code",
   "execution_count": 12,
   "metadata": {},
   "outputs": [
    {
     "name": "stdout",
     "output_type": "stream",
     "text": [
      "['1010', 'Python']\n"
     ]
    }
   ],
   "source": [
    "lt = [\"1010\", \"10.10\", \"Python\"]\n",
    "del lt[1]\n",
    "print(lt)"
   ]
  },
  {
   "cell_type": "markdown",
   "metadata": {},
   "source": [
    " ls.reverse()将列表ls中元素进行逆序反转。\n"
   ]
  },
  {
   "cell_type": "code",
   "execution_count": 17,
   "metadata": {},
   "outputs": [
    {
     "name": "stdout",
     "output_type": "stream",
     "text": [
      "['Python', '10.10', '1010']\n"
     ]
    }
   ],
   "source": [
    "lt = [\"1010\", \"10.10\", \"Python\"] \n",
    "lt.reverse()\n",
    "print(lt)"
   ]
  },
  {
   "cell_type": "markdown",
   "metadata": {},
   "source": [
    "ls.copy() 复制ls中所有元素生成一个新列表。\n"
   ]
  },
  {
   "cell_type": "code",
   "execution_count": 19,
   "metadata": {},
   "outputs": [
    {
     "name": "stdout",
     "output_type": "stream",
     "text": [
      "['1010', '10.10', 'Python']\n"
     ]
    }
   ],
   "source": [
    "lt = [\"1010\", \"10.10\", \"Python\"] \n",
    "ls = lt.copy()\n",
    "lt.clear()\n",
    "print(ls)"
   ]
  },
  {
   "cell_type": "markdown",
   "metadata": {},
   "source": [
    " 由上例看出，一个列表lt使用.copy()方法复制后赋值给 变量ls，将lt元素清空不影响新生成的变量ls。\n"
   ]
  },
  {
   "cell_type": "markdown",
   "metadata": {},
   "source": [
    "需要注意，对于基本的数据类型，如整数或字符串，可以通过等号实现元素赋值。但对于列表类型，使用等号 无法实现真正的赋值。其中，ls = lt语句并不是拷贝lt中 元素给变量ls，而是新关联了一个引用，即ls和lt所指向 的是同一套内容。\n",
    "\n",
    "使用索引配合等号（=）可以对列表元素进行修改。\n",
    "\n",
    "列表是一个十分灵活的数据结构，它具有处理任意长度、混合类型的能力，并提供了丰富的基础操作符和方法。当程序需要使用组合数据类型管理批量数据时，请尽量使用列表类型。\n"
   ]
  },
  {
   "cell_type": "markdown",
   "metadata": {},
   "source": [
    "### 4 字典类型\n",
    "\n",
    "#### 字典的定义\n",
    "\n",
    "“键值对”是组织数据的一种重要方式，广泛应 用在Web系统中。键值对的基本思想是将“值” 信息关联一个“键”信息，进而通过键信息查找 对应值信息，这个过程叫映射。Python语言中 通过字典类型实现映射。\n",
    "\n",
    " Python语言中的字典使用大括号{}建立，每个元 素是一个键值对，使用方式如下： \n",
    " \n",
    " {<键1>:<值1>,  <键2>:<值2>,  … ,  <键n>:<值n>}\n",
    "\n",
    "其中，键和值通过冒号连接，不同键值对通过逗号隔开。字典类型也具有和集合类似的性质，即\n",
    "键值对之间没有顺序且不能重复。\n",
    "\n",
    "变量d可以看作是“学号”与“姓名”的映射关 系。需要注意，字典各个元素并没有顺序之分。 "
   ]
  },
  {
   "cell_type": "markdown",
   "metadata": {},
   "source": [
    "d = {\"201801\":\"小明\", \"201802\":\"小红\", \"201803\":\"小白\"}\n",
    "print(d)"
   ]
  },
  {
   "cell_type": "markdown",
   "metadata": {},
   "source": [
    "#### 字典的索引\n",
    "\n",
    "列表类型采用元素顺序的位置进行索引。由于字典元素“键值对”中键是值的索引，因此，可以\n",
    "直接利用键值对关系索引元素。\n",
    "\n",
    "字典中键值对的索引模式如下，采用中括号格式： \n",
    "\n",
    "<值> = <字典变量>[<键>]\n"
   ]
  },
  {
   "cell_type": "code",
   "execution_count": 21,
   "metadata": {},
   "outputs": [
    {
     "name": "stdout",
     "output_type": "stream",
     "text": [
      "小红\n"
     ]
    }
   ],
   "source": [
    "print(d[\"201802\"])"
   ]
  },
  {
   "cell_type": "markdown",
   "metadata": {},
   "source": [
    "利用索引和赋值（=）配合，可以对字典中每个 元素进行修改。 "
   ]
  },
  {
   "cell_type": "code",
   "execution_count": 22,
   "metadata": {},
   "outputs": [
    {
     "name": "stdout",
     "output_type": "stream",
     "text": [
      "{'201801': '小明', '201802': '新小红', '201803': '小白'}\n"
     ]
    }
   ],
   "source": [
    "d[\"201802\"] = \"新小红\"\n",
    "print(d)"
   ]
  },
  {
   "cell_type": "markdown",
   "metadata": {},
   "source": [
    "使用大括号可以创建字典。通过索引和赋值配合，可以向字典中增加元素。\n"
   ]
  },
  {
   "cell_type": "code",
   "execution_count": 23,
   "metadata": {},
   "outputs": [
    {
     "name": "stdout",
     "output_type": "stream",
     "text": [
      "{'201804': '小新'}\n"
     ]
    }
   ],
   "source": [
    "t = {}\n",
    "t[\"201804\"] = \"小新\"\n",
    "print(t)"
   ]
  },
  {
   "cell_type": "markdown",
   "metadata": {},
   "source": [
    "字典是存储可变数量键值对的数据结构，键和值可以是任意数据类型，通过键索引值，并可以通\n",
    "过键修改值。\n"
   ]
  },
  {
   "cell_type": "markdown",
   "metadata": {},
   "source": [
    "### 5 字典类型的操作\n",
    "\n",
    "#### 字典的操作函数\n",
    "\n",
    "|操作函数 |描述|\n",
    "|:--:|:--:|\n",
    "|len(d)|字典d的元素个数（长度） |\n",
    "|min(d)| 字典d中键的最小值 |\n",
    "|max(d) |字典d中键的最大值\n",
    "|dict()| 生成一个空字典|\n",
    "\n",
    " len(d)给出字典d的元素个数，也称为长度。"
   ]
  },
  {
   "cell_type": "code",
   "execution_count": 24,
   "metadata": {},
   "outputs": [
    {
     "data": {
      "text/plain": [
       "3"
      ]
     },
     "execution_count": 24,
     "metadata": {},
     "output_type": "execute_result"
    }
   ],
   "source": [
    "d = {\"201801\":\"小明\", \"201802\":\"小红\", \"201803\":\"小白\"} \n",
    "len(d)"
   ]
  },
  {
   "cell_type": "markdown",
   "metadata": {},
   "source": [
    "min(d)和max(d)分别返回字典d中最小或最大索引值。"
   ]
  },
  {
   "cell_type": "code",
   "execution_count": 26,
   "metadata": {},
   "outputs": [
    {
     "name": "stdout",
     "output_type": "stream",
     "text": [
      "201801\n",
      "201803\n"
     ]
    }
   ],
   "source": [
    "d = {\"201801\":\"小明\", \"201802\":\"小红\", \"201803\":\"小白\"} \n",
    "print(min(d))\n",
    "print(max(d))"
   ]
  },
  {
   "cell_type": "markdown",
   "metadata": {},
   "source": [
    "dict()函数用于生成一个空字典，作用和{}一致。 "
   ]
  },
  {
   "cell_type": "code",
   "execution_count": 27,
   "metadata": {},
   "outputs": [
    {
     "name": "stdout",
     "output_type": "stream",
     "text": [
      "{}\n"
     ]
    }
   ],
   "source": [
    "d = dict()\n",
    "print(d)"
   ]
  },
  {
   "cell_type": "markdown",
   "metadata": {},
   "source": [
    "字典类型存在一些操作方法，使用语法形式是： \n",
    "\n",
    "<字典变量>.<方法名称>(<方法参数>) \n",
    "\n",
    "|操作方法| 描述 |\n",
    "|:--:|:--:|\n",
    "|d.keys()| 返回所有的键信息 |\n",
    "|d.values()| 返回所有的值信息 |\n",
    "|d.items() |返回所有的键值对 \"\n",
    "|d.get(key, default)| 键存在则返回相应值，否则返回默认值|\n",
    "|d.pop(key, default)| 键存在则返回相应值，同时删除键值对，否则返回默认值 |\n",
    "|d.popitem()| 随机从字典中取出一个键值对，以元组(key, value)形式返回 |\n",
    "|d.clear()| 删除所有的键值对|"
   ]
  },
  {
   "cell_type": "markdown",
   "metadata": {},
   "source": [
    " d.keys()返回字典中的所有键信息，返回结果是Python 的一种内部数据类型dict_keys，专用于表示字典的键。 如果希望更好的使用返回结果，可以将其转换为列表类型。\n"
   ]
  },
  {
   "cell_type": "code",
   "execution_count": 29,
   "metadata": {},
   "outputs": [
    {
     "name": "stdout",
     "output_type": "stream",
     "text": [
      "dict_keys(['201801', '201802', '201803'])\n",
      "<class 'dict_keys'>\n",
      "['201801', '201802', '201803']\n"
     ]
    }
   ],
   "source": [
    "d = {\"201801\":\"小明\", \"201802\":\"小红\", \"201803\":\"小白\"}\n",
    "print(d.keys())\n",
    "print(type(d.keys()))\n",
    "print(list(d.keys()))"
   ]
  },
  {
   "cell_type": "markdown",
   "metadata": {},
   "source": [
    "d.values()返回字典中的所有值信息，返回结果是Python 的一种内部数据类型dict_values。如果希望更好的使用 返回结果，可以将其转换为列表类型。 "
   ]
  },
  {
   "cell_type": "code",
   "execution_count": 30,
   "metadata": {},
   "outputs": [
    {
     "name": "stdout",
     "output_type": "stream",
     "text": [
      "dict_values(['小明', '小红', '小白'])\n",
      "<class 'dict_values'>\n",
      "['小明', '小红', '小白']\n"
     ]
    }
   ],
   "source": [
    "d = {\"201801\":\"小明\", \"201802\":\"小红\", \"201803\":\"小白\"} \n",
    "print(d.values())\n",
    "print(type(d.values()))\n",
    "print(list(d.values()))"
   ]
  },
  {
   "cell_type": "markdown",
   "metadata": {},
   "source": [
    "d.items()返回字典中的所有键值对信息，返回结果是 Python的一种内部数据类型dict_items。 "
   ]
  },
  {
   "cell_type": "code",
   "execution_count": 32,
   "metadata": {},
   "outputs": [
    {
     "name": "stdout",
     "output_type": "stream",
     "text": [
      "dict_items([('201801', '小明'), ('201802', '小红'), ('201803', '小白')])\n",
      "<class 'dict_items'>\n",
      "[('201801', '小明'), ('201802', '小红'), ('201803', '小白')]\n"
     ]
    }
   ],
   "source": [
    "d = {\"201801\":\"小明\", \"201802\":\"小红\", \"201803\":\"小白\"} \n",
    "print(d.items())\n",
    "print(type(d.items()))\n",
    "print(list(d.items()))"
   ]
  },
  {
   "cell_type": "markdown",
   "metadata": {},
   "source": [
    "d.get(key, default)根据键信息查找并返回值信息，如果 key存在则返回相应值，否则返回默认值，第二个元素 default可以省略，如果省略则默认值为空。 "
   ]
  },
  {
   "cell_type": "code",
   "execution_count": 33,
   "metadata": {},
   "outputs": [
    {
     "name": "stdout",
     "output_type": "stream",
     "text": [
      "小红\n",
      "None\n",
      "不存在\n"
     ]
    }
   ],
   "source": [
    "d = {\"201801\":\"小明\", \"201802\":\"小红\", \"201803\":\"小白\"} \n",
    "print(d.get(\"201802\"))\n",
    "print(d.get(\"201804\"))\n",
    "print(d.get(\"201804\", \"不存在\"))"
   ]
  },
  {
   "cell_type": "markdown",
   "metadata": {},
   "source": [
    "d.pop(key, default)根据键信息查找并取出值信息，如果 key存在则返回相应值，否则返回默认值，第二个元素 default可以省略，如果省略则默认值为空。相比d.get() 方法，d.pop()在取出相应值后，将从字典中删除对应的 键值对。 "
   ]
  },
  {
   "cell_type": "code",
   "execution_count": 34,
   "metadata": {},
   "outputs": [
    {
     "name": "stdout",
     "output_type": "stream",
     "text": [
      "小红\n",
      "{'201801': '小明', '201803': '小白'}\n",
      "不存在\n"
     ]
    }
   ],
   "source": [
    "d = {\"201801\":\"小明\", \"201802\":\"小红\", \"201803\":\"小白\"}\n",
    "print(d.pop('201802'))\n",
    "print(d)\n",
    "print(d.pop(\"201804\", \"不存在\"))"
   ]
  },
  {
   "cell_type": "markdown",
   "metadata": {},
   "source": [
    "d.popitem()随机从字典中取出一个键值对，以元组(key, value)形式返回。取出后从字典中删除这个键值对。\n"
   ]
  },
  {
   "cell_type": "code",
   "execution_count": 36,
   "metadata": {},
   "outputs": [
    {
     "name": "stdout",
     "output_type": "stream",
     "text": [
      "('201803', '小白')\n",
      "{'201801': '小明', '201802': '小红'}\n"
     ]
    }
   ],
   "source": [
    "d = {\"201801\":\"小明\", \"201802\":\"小红\", \"201803\":\"小白\"}\n",
    "print(d.popitem()) \n",
    "print(d)"
   ]
  },
  {
   "cell_type": "markdown",
   "metadata": {},
   "source": [
    " d.clear()删除字典中所有键值对。"
   ]
  },
  {
   "cell_type": "code",
   "execution_count": 37,
   "metadata": {},
   "outputs": [
    {
     "name": "stdout",
     "output_type": "stream",
     "text": [
      "None\n",
      "{}\n"
     ]
    }
   ],
   "source": [
    "d = {\"201801\":\"小明\", \"201802\":\"小红\", \"201803\":\"小白\"}\n",
    "print(d.clear())\n",
    "print(d)"
   ]
  },
  {
   "cell_type": "markdown",
   "metadata": {},
   "source": [
    "此外，如果希望删除字典中某一个元素，可以使用 Python保留字del。"
   ]
  },
  {
   "cell_type": "code",
   "execution_count": 39,
   "metadata": {},
   "outputs": [
    {
     "name": "stdout",
     "output_type": "stream",
     "text": [
      "{'201802': '小红', '201803': '小白'}\n"
     ]
    }
   ],
   "source": [
    "d = {\"201801\":\"小明\", \"201802\":\"小红\", \"201803\":\"小白\"} \n",
    "del d[\"201801\"] \n",
    "print(d)"
   ]
  },
  {
   "cell_type": "markdown",
   "metadata": {},
   "source": [
    "字典类型也支持保留字in，用来判断一个键是否在字典 中。如果在则返回True，否则返回False。\n"
   ]
  },
  {
   "cell_type": "code",
   "execution_count": 40,
   "metadata": {},
   "outputs": [
    {
     "name": "stdout",
     "output_type": "stream",
     "text": [
      "True\n",
      "False\n"
     ]
    }
   ],
   "source": [
    "d = {\"201801\":\"小明\", \"201802\":\"小红\", \"201803\":\"小白\"} \n",
    "print(\"201801\" in d)\n",
    "print(\"201804\" in d)"
   ]
  },
  {
   "cell_type": "markdown",
   "metadata": {},
   "source": [
    "与其他组合类型一样，字典可以遍历循环对其元素进行\n",
    "遍历，基本语法结构如下： \n",
    "\n",
    "for  <变量名>  in  <字典名>\n",
    "\n",
    "&emsp;&emsp;<语句块> \n",
    "\n",
    " for循环返回的变量名是字典的索引值。如果需要获得键 对应的值，可以在语句块中通过get()方法获得。"
   ]
  },
  {
   "cell_type": "code",
   "execution_count": 43,
   "metadata": {},
   "outputs": [
    {
     "name": "stdout",
     "output_type": "stream",
     "text": [
      "字典的字典的键和值分别是：201801和小明\n",
      "字典的字典的键和值分别是：201802和小红\n",
      "字典的字典的键和值分别是：201803和小白\n"
     ]
    }
   ],
   "source": [
    "d = {\"201801\":\"小明\", \"201802\":\"小红\", \"201803\":\"小白\"} \n",
    "for i in d:\n",
    "    print(\"字典的字典的键和值分别是：{}和{}\".format(i, d.get(i)))"
   ]
  },
  {
   "cell_type": "markdown",
   "metadata": {},
   "source": [
    "### 5实例解析：文本词频统计\n",
    "\n",
    "#### 文本词频统计\n",
    "\n",
    "在很多情况下，会遇到这样的问题：对于一篇给定文章，希望统计其中多次出现的词语，进而概\n",
    "要分析文章的内容。这个问题的解决可用于对网络信息进行自动检索和归档。\n",
    "\n",
    "在信息爆炸时代，这种归档或分类十分有必要。这就是“词频统计”问题。\n",
    "\n",
    "统计《哈姆雷特》英文词频 \n",
    "- 第一步：分解并提取英文文章的单词 \n",
    "\n",
    "通过txt.lower()函数将字母变成小写，排除原文大 小写差异对词频统计的干扰。为统一分隔方式，可 以将各种特殊字符和标点符号使用txt.replace()方法 替换成空格，再提取单词。\n",
    "\n",
    "- 第二步：对每个单词进行计数 \n",
    "\n",
    "if word in counts:\n",
    "\n",
    "&emsp;&emsp;counts[word] = counts[word] + 1 \n",
    "\n",
    "else: \n",
    "\n",
    "&emsp;&emsp;counts[word] = 1\n",
    "\n",
    "或者，这个处理逻辑可以更简洁的表示为如下代码：\n",
    "\n",
    "counts[word] = counts.get(word,0) + 1\n",
    "\n",
    "- 第三走：对单词的统计值从高到低进行排序 \n",
    "\n",
    "由于字典类型没有顺序，需要将其转换为有顺序的 列表类型，再使用sort()方法和lambda函数配合实 现根据单词次数对元素进行排序。\n",
    "\n",
    "items = list(counts.items())#将字典转换为记录列表 i\n",
    "\n",
    "tems.sort(key=lambda x:x[1], reverse=True)  #以第2列排序"
   ]
  },
  {
   "cell_type": "code",
   "execution_count": 45,
   "metadata": {},
   "outputs": [
    {
     "name": "stdout",
     "output_type": "stream",
     "text": [
      "the        1138\n",
      "and         965\n",
      "to          754\n",
      "of          669\n",
      "you         550\n",
      "i           542\n",
      "a           542\n",
      "my          514\n",
      "hamlet      462\n",
      "in          436\n"
     ]
    }
   ],
   "source": [
    "def getTxt():\n",
    "    txt = open(\"hamlet.txt\",\"r\").read()\n",
    "    txt = txt.lower()\n",
    "    for ch in \"!#$%&()*+,-./:;<=>?@[\\\\]^_{|}~\":\n",
    "        txt = txt.replace(ch,\" \")\n",
    "    return txt\n",
    "\n",
    "\n",
    "hamletTxt = getTxt()\n",
    "words = hamletTxt.split()\n",
    "counts = {}\n",
    "for word in words:\n",
    "    counts[word] = counts.get(word,0) + 1\n",
    "items = list(counts.items())\n",
    "items.sort(key=lambda x:x[1],reverse=True)\n",
    "for i in range(10):\n",
    "    word,count = items[i]\n",
    "    print(\"{0:<10}{1:>5}\".format(word,count))\n",
    "    "
   ]
  }
 ],
 "metadata": {
  "kernelspec": {
   "display_name": "Python 3",
   "language": "python",
   "name": "python3"
  },
  "language_info": {
   "codemirror_mode": {
    "name": "ipython",
    "version": 3
   },
   "file_extension": ".py",
   "mimetype": "text/x-python",
   "name": "python",
   "nbconvert_exporter": "python",
   "pygments_lexer": "ipython3",
   "version": "3.7.3"
  }
 },
 "nbformat": 4,
 "nbformat_minor": 4
}
